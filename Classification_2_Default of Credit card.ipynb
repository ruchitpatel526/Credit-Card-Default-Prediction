{
 "cells": [
  {
   "cell_type": "markdown",
   "metadata": {},
   "source": [
    "<center><h1 style=\"font-size:39px; LINE-HEIGHT:0px\">Project 2 - Classification<h1 style=\"font-size:39px; LINE-HEIGHT:0px\"></center>\n",
    "<center><h1 style=\"font-size:29px; LINE-HEIGHT:0px\"> Machine Learning Spring 2021 <h1 style=\"font-size:19px; LINE-HEIGHT:0px\"></center>"
   ]
  },
  {
   "cell_type": "markdown",
   "metadata": {},
   "source": [
    "<h2>Default of Credit card</h2>\n",
    "<h2>Source of Dataset</h2>\n",
    "\n",
    "https://archive.ics.uci.edu/ml/datasets/default+of+credit+card+clients"
   ]
  },
  {
   "cell_type": "markdown",
   "metadata": {},
   "source": [
    "<h2>Feature Details</h2>\n",
    "\n",
    "LIMIT_BAL: Amount of given credit in NT dollars (includes individual and family/supplementary credit)\n",
    "\n",
    "SEX: Gender (1=male, 2=female)\n",
    "\n",
    "EDUCATION: (0=?, 1=graduate school, 2=university, 3=high school, 4=others, 5=unknown, 6=unknown)\n",
    "\n",
    "MARRIAGE: Marital status (0=?,1=married, 2=single, 3=others)\n",
    "\n",
    "AGE: Age in years\n",
    "\n",
    "PAY0: Repayment status in September, 2005 (-1=pay duly, 1=payment delay for one month, 2=payment delay for two months, ... \n",
    "8=payment delay for eight months, 9=payment delay for nine months and above)\n",
    "\n",
    "PAY2: Repayment status in August, 2005 \n",
    "\n",
    "PAY3: Repayment status in July, 2005 \n",
    "\n",
    "PAY4: Repayment status in June, 2005 \n",
    "\n",
    "PAY5: Repayment status in May, 2005 \n",
    "\n",
    "PAY6: Repayment status in April, 2005 \n",
    "\n",
    "BILL_AMT1: Bill in September, 2005 (NT dollar)\n",
    "\n",
    "BILL_AMT2: Bill in August, 2005 (NT dollar)\n",
    "\n",
    "BILL_AMT3: Bill in July, 2005 (NT dollar)\n",
    "\n",
    "BILL_AMT4: Bill in June, 2005 (NT dollar)\n",
    "\n",
    "BILL_AMT5: Bill statement in May, 2005 (NT dollar)\n",
    "\n",
    "BILL_AMT6: Bill statement in April, 2005 (NT dollar)\n",
    "\n",
    "PAY_AMT1: Amount of previous payment in September, 2005 (NT dollar)\n",
    "\n",
    "PAY_AMT2: Amount of previous payment in August, 2005 (NT dollar)\n",
    "\n",
    "PAY_AMT3: Amount of previous payment in July, 2005 (NT dollar)\n",
    "\n",
    "PAY_AMT4: Amount of previous payment in June, 2005 (NT dollar)\n",
    "\n",
    "PAY_AMT5: Amount of previous payment in May, 2005 (NT dollar)\n",
    "\n",
    "PAY_AMT6: Amount of previous payment in April, 2005 (NT dollar)\n",
    "\n",
    "Default_Payment: Default payment for next month (1=yes, 0=no)\n",
    "\n"
   ]
  },
  {
   "cell_type": "markdown",
   "metadata": {},
   "source": [
    "### Classification Task:\n",
    "1) Apply two voting classifiers - one with hard voting and one with soft voting. \n",
    "\n",
    "2) Apply any two models with bagging and any two models with pasting. \n",
    "\n",
    "3) Apply any two models with AdaBoost boosting. \n",
    "\n",
    "4) Apply one model with gradient boosting. \n",
    "\n",
    "5) Apply PCA on data and then apply all the models in project 1 again on data you get from PCA. Compare your results with results in project 1. You don't need to apply all the models twice. Just copy the result table from project 1, prepare a similar table for all the models after PCA and compare both tables. Does PCA help in getting better results?\n",
    "\n",
    "6) Apply deep learning models covered in class. \n",
    "\n",
    "7) In all the classification tasks, consider the evaluation function you used in Project 1. \n"
   ]
  },
  {
   "cell_type": "markdown",
   "metadata": {},
   "source": [
    "<h2> Import Modules </h2>"
   ]
  },
  {
   "cell_type": "code",
   "execution_count": 1,
   "metadata": {
    "scrolled": true
   },
   "outputs": [],
   "source": [
    "import pandas as pd\n",
    "import numpy as np\n",
    "import matplotlib.pyplot as plt\n",
    "%matplotlib inline\n",
    "import warnings\n",
    "warnings.filterwarnings(\"ignore\")\n",
    "import seaborn as sns\n",
    "from sklearn.model_selection import train_test_split\n",
    "from sklearn import model_selection\n",
    "from sklearn.preprocessing import MinMaxScaler,StandardScaler\n",
    "from sklearn import svm\n",
    "from sklearn.metrics import classification_report\n",
    "from sklearn.metrics import confusion_matrix\n",
    "from sklearn.metrics import accuracy_score\n",
    "from sklearn.model_selection import cross_val_score\n",
    "from sklearn.model_selection import GridSearchCV\n",
    "from sklearn.metrics import recall_score, precision_score, f1_score\n",
    "from sklearn.metrics import precision_recall_curve\n",
    "from sklearn import svm\n",
    "import seaborn as sns\n",
    "from sklearn.neighbors import KNeighborsClassifier\n",
    "from sklearn.linear_model import LogisticRegression\n",
    "from sklearn.svm import SVC\n",
    "from sklearn.ensemble import VotingClassifier\n",
    "from sklearn.model_selection import train_test_split\n",
    "from sklearn.preprocessing import StandardScaler\n",
    "from sklearn.ensemble import BaggingClassifier\n",
    "from sklearn.tree import DecisionTreeClassifier\n"
   ]
  },
  {
   "cell_type": "markdown",
   "metadata": {},
   "source": [
    "<h2>Load Data</h2> "
   ]
  },
  {
   "cell_type": "code",
   "execution_count": 2,
   "metadata": {
    "scrolled": false
   },
   "outputs": [],
   "source": [
    "dcc = pd.read_excel('default of credit card clients.xls',skiprows=1)\n",
    "dcc.drop(['ID'], axis=1, inplace=True)"
   ]
  },
  {
   "cell_type": "code",
   "execution_count": 3,
   "metadata": {
    "scrolled": false
   },
   "outputs": [
    {
     "data": {
      "text/html": [
       "<div>\n",
       "<style scoped>\n",
       "    .dataframe tbody tr th:only-of-type {\n",
       "        vertical-align: middle;\n",
       "    }\n",
       "\n",
       "    .dataframe tbody tr th {\n",
       "        vertical-align: top;\n",
       "    }\n",
       "\n",
       "    .dataframe thead th {\n",
       "        text-align: right;\n",
       "    }\n",
       "</style>\n",
       "<table border=\"1\" class=\"dataframe\">\n",
       "  <thead>\n",
       "    <tr style=\"text-align: right;\">\n",
       "      <th></th>\n",
       "      <th>LIMIT_BAL</th>\n",
       "      <th>SEX</th>\n",
       "      <th>EDUCATION</th>\n",
       "      <th>MARRIAGE</th>\n",
       "      <th>AGE</th>\n",
       "      <th>PAY_0</th>\n",
       "      <th>PAY_2</th>\n",
       "      <th>PAY_3</th>\n",
       "      <th>PAY_4</th>\n",
       "      <th>PAY_5</th>\n",
       "      <th>...</th>\n",
       "      <th>BILL_AMT4</th>\n",
       "      <th>BILL_AMT5</th>\n",
       "      <th>BILL_AMT6</th>\n",
       "      <th>PAY_AMT1</th>\n",
       "      <th>PAY_AMT2</th>\n",
       "      <th>PAY_AMT3</th>\n",
       "      <th>PAY_AMT4</th>\n",
       "      <th>PAY_AMT5</th>\n",
       "      <th>PAY_AMT6</th>\n",
       "      <th>default payment next month</th>\n",
       "    </tr>\n",
       "  </thead>\n",
       "  <tbody>\n",
       "    <tr>\n",
       "      <th>0</th>\n",
       "      <td>20000</td>\n",
       "      <td>2</td>\n",
       "      <td>2</td>\n",
       "      <td>1</td>\n",
       "      <td>24</td>\n",
       "      <td>2</td>\n",
       "      <td>2</td>\n",
       "      <td>-1</td>\n",
       "      <td>-1</td>\n",
       "      <td>-2</td>\n",
       "      <td>...</td>\n",
       "      <td>0</td>\n",
       "      <td>0</td>\n",
       "      <td>0</td>\n",
       "      <td>0</td>\n",
       "      <td>689</td>\n",
       "      <td>0</td>\n",
       "      <td>0</td>\n",
       "      <td>0</td>\n",
       "      <td>0</td>\n",
       "      <td>1</td>\n",
       "    </tr>\n",
       "    <tr>\n",
       "      <th>1</th>\n",
       "      <td>120000</td>\n",
       "      <td>2</td>\n",
       "      <td>2</td>\n",
       "      <td>2</td>\n",
       "      <td>26</td>\n",
       "      <td>-1</td>\n",
       "      <td>2</td>\n",
       "      <td>0</td>\n",
       "      <td>0</td>\n",
       "      <td>0</td>\n",
       "      <td>...</td>\n",
       "      <td>3272</td>\n",
       "      <td>3455</td>\n",
       "      <td>3261</td>\n",
       "      <td>0</td>\n",
       "      <td>1000</td>\n",
       "      <td>1000</td>\n",
       "      <td>1000</td>\n",
       "      <td>0</td>\n",
       "      <td>2000</td>\n",
       "      <td>1</td>\n",
       "    </tr>\n",
       "    <tr>\n",
       "      <th>2</th>\n",
       "      <td>90000</td>\n",
       "      <td>2</td>\n",
       "      <td>2</td>\n",
       "      <td>2</td>\n",
       "      <td>34</td>\n",
       "      <td>0</td>\n",
       "      <td>0</td>\n",
       "      <td>0</td>\n",
       "      <td>0</td>\n",
       "      <td>0</td>\n",
       "      <td>...</td>\n",
       "      <td>14331</td>\n",
       "      <td>14948</td>\n",
       "      <td>15549</td>\n",
       "      <td>1518</td>\n",
       "      <td>1500</td>\n",
       "      <td>1000</td>\n",
       "      <td>1000</td>\n",
       "      <td>1000</td>\n",
       "      <td>5000</td>\n",
       "      <td>0</td>\n",
       "    </tr>\n",
       "    <tr>\n",
       "      <th>3</th>\n",
       "      <td>50000</td>\n",
       "      <td>2</td>\n",
       "      <td>2</td>\n",
       "      <td>1</td>\n",
       "      <td>37</td>\n",
       "      <td>0</td>\n",
       "      <td>0</td>\n",
       "      <td>0</td>\n",
       "      <td>0</td>\n",
       "      <td>0</td>\n",
       "      <td>...</td>\n",
       "      <td>28314</td>\n",
       "      <td>28959</td>\n",
       "      <td>29547</td>\n",
       "      <td>2000</td>\n",
       "      <td>2019</td>\n",
       "      <td>1200</td>\n",
       "      <td>1100</td>\n",
       "      <td>1069</td>\n",
       "      <td>1000</td>\n",
       "      <td>0</td>\n",
       "    </tr>\n",
       "    <tr>\n",
       "      <th>4</th>\n",
       "      <td>50000</td>\n",
       "      <td>1</td>\n",
       "      <td>2</td>\n",
       "      <td>1</td>\n",
       "      <td>57</td>\n",
       "      <td>-1</td>\n",
       "      <td>0</td>\n",
       "      <td>-1</td>\n",
       "      <td>0</td>\n",
       "      <td>0</td>\n",
       "      <td>...</td>\n",
       "      <td>20940</td>\n",
       "      <td>19146</td>\n",
       "      <td>19131</td>\n",
       "      <td>2000</td>\n",
       "      <td>36681</td>\n",
       "      <td>10000</td>\n",
       "      <td>9000</td>\n",
       "      <td>689</td>\n",
       "      <td>679</td>\n",
       "      <td>0</td>\n",
       "    </tr>\n",
       "  </tbody>\n",
       "</table>\n",
       "<p>5 rows × 24 columns</p>\n",
       "</div>"
      ],
      "text/plain": [
       "   LIMIT_BAL  SEX  EDUCATION  MARRIAGE  AGE  PAY_0  PAY_2  PAY_3  PAY_4  \\\n",
       "0      20000    2          2         1   24      2      2     -1     -1   \n",
       "1     120000    2          2         2   26     -1      2      0      0   \n",
       "2      90000    2          2         2   34      0      0      0      0   \n",
       "3      50000    2          2         1   37      0      0      0      0   \n",
       "4      50000    1          2         1   57     -1      0     -1      0   \n",
       "\n",
       "   PAY_5  ...  BILL_AMT4  BILL_AMT5  BILL_AMT6  PAY_AMT1  PAY_AMT2  PAY_AMT3  \\\n",
       "0     -2  ...          0          0          0         0       689         0   \n",
       "1      0  ...       3272       3455       3261         0      1000      1000   \n",
       "2      0  ...      14331      14948      15549      1518      1500      1000   \n",
       "3      0  ...      28314      28959      29547      2000      2019      1200   \n",
       "4      0  ...      20940      19146      19131      2000     36681     10000   \n",
       "\n",
       "   PAY_AMT4  PAY_AMT5  PAY_AMT6  default payment next month  \n",
       "0         0         0         0                           1  \n",
       "1      1000         0      2000                           1  \n",
       "2      1000      1000      5000                           0  \n",
       "3      1100      1069      1000                           0  \n",
       "4      9000       689       679                           0  \n",
       "\n",
       "[5 rows x 24 columns]"
      ]
     },
     "execution_count": 3,
     "metadata": {},
     "output_type": "execute_result"
    }
   ],
   "source": [
    "dcc.head(5)"
   ]
  },
  {
   "cell_type": "code",
   "execution_count": 4,
   "metadata": {
    "scrolled": false
   },
   "outputs": [
    {
     "data": {
      "text/html": [
       "<div>\n",
       "<style scoped>\n",
       "    .dataframe tbody tr th:only-of-type {\n",
       "        vertical-align: middle;\n",
       "    }\n",
       "\n",
       "    .dataframe tbody tr th {\n",
       "        vertical-align: top;\n",
       "    }\n",
       "\n",
       "    .dataframe thead th {\n",
       "        text-align: right;\n",
       "    }\n",
       "</style>\n",
       "<table border=\"1\" class=\"dataframe\">\n",
       "  <thead>\n",
       "    <tr style=\"text-align: right;\">\n",
       "      <th></th>\n",
       "      <th>LIMIT_BAL</th>\n",
       "      <th>SEX</th>\n",
       "      <th>EDUCATION</th>\n",
       "      <th>MARRIAGE</th>\n",
       "      <th>AGE</th>\n",
       "      <th>PAY_0</th>\n",
       "      <th>PAY_2</th>\n",
       "      <th>PAY_3</th>\n",
       "      <th>PAY_4</th>\n",
       "      <th>PAY_5</th>\n",
       "      <th>...</th>\n",
       "      <th>BILL_AMT4</th>\n",
       "      <th>BILL_AMT5</th>\n",
       "      <th>BILL_AMT6</th>\n",
       "      <th>PAY_AMT1</th>\n",
       "      <th>PAY_AMT2</th>\n",
       "      <th>PAY_AMT3</th>\n",
       "      <th>PAY_AMT4</th>\n",
       "      <th>PAY_AMT5</th>\n",
       "      <th>PAY_AMT6</th>\n",
       "      <th>default payment next month</th>\n",
       "    </tr>\n",
       "  </thead>\n",
       "  <tbody>\n",
       "    <tr>\n",
       "      <th>count</th>\n",
       "      <td>30000.000000</td>\n",
       "      <td>30000.000000</td>\n",
       "      <td>30000.000000</td>\n",
       "      <td>30000.000000</td>\n",
       "      <td>30000.000000</td>\n",
       "      <td>30000.000000</td>\n",
       "      <td>30000.000000</td>\n",
       "      <td>30000.000000</td>\n",
       "      <td>30000.000000</td>\n",
       "      <td>30000.000000</td>\n",
       "      <td>...</td>\n",
       "      <td>30000.000000</td>\n",
       "      <td>30000.000000</td>\n",
       "      <td>30000.000000</td>\n",
       "      <td>30000.000000</td>\n",
       "      <td>3.000000e+04</td>\n",
       "      <td>30000.00000</td>\n",
       "      <td>30000.000000</td>\n",
       "      <td>30000.000000</td>\n",
       "      <td>30000.000000</td>\n",
       "      <td>30000.000000</td>\n",
       "    </tr>\n",
       "    <tr>\n",
       "      <th>mean</th>\n",
       "      <td>167484.322667</td>\n",
       "      <td>1.603733</td>\n",
       "      <td>1.853133</td>\n",
       "      <td>1.551867</td>\n",
       "      <td>35.485500</td>\n",
       "      <td>-0.016700</td>\n",
       "      <td>-0.133767</td>\n",
       "      <td>-0.166200</td>\n",
       "      <td>-0.220667</td>\n",
       "      <td>-0.266200</td>\n",
       "      <td>...</td>\n",
       "      <td>43262.948967</td>\n",
       "      <td>40311.400967</td>\n",
       "      <td>38871.760400</td>\n",
       "      <td>5663.580500</td>\n",
       "      <td>5.921163e+03</td>\n",
       "      <td>5225.68150</td>\n",
       "      <td>4826.076867</td>\n",
       "      <td>4799.387633</td>\n",
       "      <td>5215.502567</td>\n",
       "      <td>0.221200</td>\n",
       "    </tr>\n",
       "    <tr>\n",
       "      <th>std</th>\n",
       "      <td>129747.661567</td>\n",
       "      <td>0.489129</td>\n",
       "      <td>0.790349</td>\n",
       "      <td>0.521970</td>\n",
       "      <td>9.217904</td>\n",
       "      <td>1.123802</td>\n",
       "      <td>1.197186</td>\n",
       "      <td>1.196868</td>\n",
       "      <td>1.169139</td>\n",
       "      <td>1.133187</td>\n",
       "      <td>...</td>\n",
       "      <td>64332.856134</td>\n",
       "      <td>60797.155770</td>\n",
       "      <td>59554.107537</td>\n",
       "      <td>16563.280354</td>\n",
       "      <td>2.304087e+04</td>\n",
       "      <td>17606.96147</td>\n",
       "      <td>15666.159744</td>\n",
       "      <td>15278.305679</td>\n",
       "      <td>17777.465775</td>\n",
       "      <td>0.415062</td>\n",
       "    </tr>\n",
       "    <tr>\n",
       "      <th>min</th>\n",
       "      <td>10000.000000</td>\n",
       "      <td>1.000000</td>\n",
       "      <td>0.000000</td>\n",
       "      <td>0.000000</td>\n",
       "      <td>21.000000</td>\n",
       "      <td>-2.000000</td>\n",
       "      <td>-2.000000</td>\n",
       "      <td>-2.000000</td>\n",
       "      <td>-2.000000</td>\n",
       "      <td>-2.000000</td>\n",
       "      <td>...</td>\n",
       "      <td>-170000.000000</td>\n",
       "      <td>-81334.000000</td>\n",
       "      <td>-339603.000000</td>\n",
       "      <td>0.000000</td>\n",
       "      <td>0.000000e+00</td>\n",
       "      <td>0.00000</td>\n",
       "      <td>0.000000</td>\n",
       "      <td>0.000000</td>\n",
       "      <td>0.000000</td>\n",
       "      <td>0.000000</td>\n",
       "    </tr>\n",
       "    <tr>\n",
       "      <th>25%</th>\n",
       "      <td>50000.000000</td>\n",
       "      <td>1.000000</td>\n",
       "      <td>1.000000</td>\n",
       "      <td>1.000000</td>\n",
       "      <td>28.000000</td>\n",
       "      <td>-1.000000</td>\n",
       "      <td>-1.000000</td>\n",
       "      <td>-1.000000</td>\n",
       "      <td>-1.000000</td>\n",
       "      <td>-1.000000</td>\n",
       "      <td>...</td>\n",
       "      <td>2326.750000</td>\n",
       "      <td>1763.000000</td>\n",
       "      <td>1256.000000</td>\n",
       "      <td>1000.000000</td>\n",
       "      <td>8.330000e+02</td>\n",
       "      <td>390.00000</td>\n",
       "      <td>296.000000</td>\n",
       "      <td>252.500000</td>\n",
       "      <td>117.750000</td>\n",
       "      <td>0.000000</td>\n",
       "    </tr>\n",
       "    <tr>\n",
       "      <th>50%</th>\n",
       "      <td>140000.000000</td>\n",
       "      <td>2.000000</td>\n",
       "      <td>2.000000</td>\n",
       "      <td>2.000000</td>\n",
       "      <td>34.000000</td>\n",
       "      <td>0.000000</td>\n",
       "      <td>0.000000</td>\n",
       "      <td>0.000000</td>\n",
       "      <td>0.000000</td>\n",
       "      <td>0.000000</td>\n",
       "      <td>...</td>\n",
       "      <td>19052.000000</td>\n",
       "      <td>18104.500000</td>\n",
       "      <td>17071.000000</td>\n",
       "      <td>2100.000000</td>\n",
       "      <td>2.009000e+03</td>\n",
       "      <td>1800.00000</td>\n",
       "      <td>1500.000000</td>\n",
       "      <td>1500.000000</td>\n",
       "      <td>1500.000000</td>\n",
       "      <td>0.000000</td>\n",
       "    </tr>\n",
       "    <tr>\n",
       "      <th>75%</th>\n",
       "      <td>240000.000000</td>\n",
       "      <td>2.000000</td>\n",
       "      <td>2.000000</td>\n",
       "      <td>2.000000</td>\n",
       "      <td>41.000000</td>\n",
       "      <td>0.000000</td>\n",
       "      <td>0.000000</td>\n",
       "      <td>0.000000</td>\n",
       "      <td>0.000000</td>\n",
       "      <td>0.000000</td>\n",
       "      <td>...</td>\n",
       "      <td>54506.000000</td>\n",
       "      <td>50190.500000</td>\n",
       "      <td>49198.250000</td>\n",
       "      <td>5006.000000</td>\n",
       "      <td>5.000000e+03</td>\n",
       "      <td>4505.00000</td>\n",
       "      <td>4013.250000</td>\n",
       "      <td>4031.500000</td>\n",
       "      <td>4000.000000</td>\n",
       "      <td>0.000000</td>\n",
       "    </tr>\n",
       "    <tr>\n",
       "      <th>max</th>\n",
       "      <td>1000000.000000</td>\n",
       "      <td>2.000000</td>\n",
       "      <td>6.000000</td>\n",
       "      <td>3.000000</td>\n",
       "      <td>79.000000</td>\n",
       "      <td>8.000000</td>\n",
       "      <td>8.000000</td>\n",
       "      <td>8.000000</td>\n",
       "      <td>8.000000</td>\n",
       "      <td>8.000000</td>\n",
       "      <td>...</td>\n",
       "      <td>891586.000000</td>\n",
       "      <td>927171.000000</td>\n",
       "      <td>961664.000000</td>\n",
       "      <td>873552.000000</td>\n",
       "      <td>1.684259e+06</td>\n",
       "      <td>896040.00000</td>\n",
       "      <td>621000.000000</td>\n",
       "      <td>426529.000000</td>\n",
       "      <td>528666.000000</td>\n",
       "      <td>1.000000</td>\n",
       "    </tr>\n",
       "  </tbody>\n",
       "</table>\n",
       "<p>8 rows × 24 columns</p>\n",
       "</div>"
      ],
      "text/plain": [
       "            LIMIT_BAL           SEX     EDUCATION      MARRIAGE           AGE  \\\n",
       "count    30000.000000  30000.000000  30000.000000  30000.000000  30000.000000   \n",
       "mean    167484.322667      1.603733      1.853133      1.551867     35.485500   \n",
       "std     129747.661567      0.489129      0.790349      0.521970      9.217904   \n",
       "min      10000.000000      1.000000      0.000000      0.000000     21.000000   \n",
       "25%      50000.000000      1.000000      1.000000      1.000000     28.000000   \n",
       "50%     140000.000000      2.000000      2.000000      2.000000     34.000000   \n",
       "75%     240000.000000      2.000000      2.000000      2.000000     41.000000   \n",
       "max    1000000.000000      2.000000      6.000000      3.000000     79.000000   \n",
       "\n",
       "              PAY_0         PAY_2         PAY_3         PAY_4         PAY_5  \\\n",
       "count  30000.000000  30000.000000  30000.000000  30000.000000  30000.000000   \n",
       "mean      -0.016700     -0.133767     -0.166200     -0.220667     -0.266200   \n",
       "std        1.123802      1.197186      1.196868      1.169139      1.133187   \n",
       "min       -2.000000     -2.000000     -2.000000     -2.000000     -2.000000   \n",
       "25%       -1.000000     -1.000000     -1.000000     -1.000000     -1.000000   \n",
       "50%        0.000000      0.000000      0.000000      0.000000      0.000000   \n",
       "75%        0.000000      0.000000      0.000000      0.000000      0.000000   \n",
       "max        8.000000      8.000000      8.000000      8.000000      8.000000   \n",
       "\n",
       "       ...      BILL_AMT4      BILL_AMT5      BILL_AMT6       PAY_AMT1  \\\n",
       "count  ...   30000.000000   30000.000000   30000.000000   30000.000000   \n",
       "mean   ...   43262.948967   40311.400967   38871.760400    5663.580500   \n",
       "std    ...   64332.856134   60797.155770   59554.107537   16563.280354   \n",
       "min    ... -170000.000000  -81334.000000 -339603.000000       0.000000   \n",
       "25%    ...    2326.750000    1763.000000    1256.000000    1000.000000   \n",
       "50%    ...   19052.000000   18104.500000   17071.000000    2100.000000   \n",
       "75%    ...   54506.000000   50190.500000   49198.250000    5006.000000   \n",
       "max    ...  891586.000000  927171.000000  961664.000000  873552.000000   \n",
       "\n",
       "           PAY_AMT2      PAY_AMT3       PAY_AMT4       PAY_AMT5  \\\n",
       "count  3.000000e+04   30000.00000   30000.000000   30000.000000   \n",
       "mean   5.921163e+03    5225.68150    4826.076867    4799.387633   \n",
       "std    2.304087e+04   17606.96147   15666.159744   15278.305679   \n",
       "min    0.000000e+00       0.00000       0.000000       0.000000   \n",
       "25%    8.330000e+02     390.00000     296.000000     252.500000   \n",
       "50%    2.009000e+03    1800.00000    1500.000000    1500.000000   \n",
       "75%    5.000000e+03    4505.00000    4013.250000    4031.500000   \n",
       "max    1.684259e+06  896040.00000  621000.000000  426529.000000   \n",
       "\n",
       "            PAY_AMT6  default payment next month  \n",
       "count   30000.000000                30000.000000  \n",
       "mean     5215.502567                    0.221200  \n",
       "std     17777.465775                    0.415062  \n",
       "min         0.000000                    0.000000  \n",
       "25%       117.750000                    0.000000  \n",
       "50%      1500.000000                    0.000000  \n",
       "75%      4000.000000                    0.000000  \n",
       "max    528666.000000                    1.000000  \n",
       "\n",
       "[8 rows x 24 columns]"
      ]
     },
     "execution_count": 4,
     "metadata": {},
     "output_type": "execute_result"
    }
   ],
   "source": [
    "dcc.describe()"
   ]
  },
  {
   "cell_type": "code",
   "execution_count": 5,
   "metadata": {
    "scrolled": true
   },
   "outputs": [
    {
     "data": {
      "text/plain": [
       "LIMIT_BAL                     0\n",
       "SEX                           0\n",
       "EDUCATION                     0\n",
       "MARRIAGE                      0\n",
       "AGE                           0\n",
       "PAY_0                         0\n",
       "PAY_2                         0\n",
       "PAY_3                         0\n",
       "PAY_4                         0\n",
       "PAY_5                         0\n",
       "PAY_6                         0\n",
       "BILL_AMT1                     0\n",
       "BILL_AMT2                     0\n",
       "BILL_AMT3                     0\n",
       "BILL_AMT4                     0\n",
       "BILL_AMT5                     0\n",
       "BILL_AMT6                     0\n",
       "PAY_AMT1                      0\n",
       "PAY_AMT2                      0\n",
       "PAY_AMT3                      0\n",
       "PAY_AMT4                      0\n",
       "PAY_AMT5                      0\n",
       "PAY_AMT6                      0\n",
       "default payment next month    0\n",
       "dtype: int64"
      ]
     },
     "execution_count": 5,
     "metadata": {},
     "output_type": "execute_result"
    }
   ],
   "source": [
    "dcc.isnull().sum()"
   ]
  },
  {
   "cell_type": "markdown",
   "metadata": {},
   "source": [
    "The original dataset does not have any null value, hence we have to manually insert null values randomly in the feature set."
   ]
  },
  {
   "cell_type": "markdown",
   "metadata": {},
   "source": [
    "<b> Let's delete 5.5% of random values from the below mentioned columns , Categorical variables and Age are left alone </b>"
   ]
  },
  {
   "cell_type": "code",
   "execution_count": 6,
   "metadata": {
    "scrolled": true
   },
   "outputs": [
    {
     "data": {
      "text/plain": [
       "Index(['PAY_0', 'PAY_2', 'PAY_3', 'PAY_4', 'PAY_5', 'PAY_6', 'BILL_AMT1',\n",
       "       'BILL_AMT2', 'BILL_AMT3', 'BILL_AMT4', 'BILL_AMT5', 'BILL_AMT6',\n",
       "       'PAY_AMT1', 'PAY_AMT2', 'PAY_AMT3', 'PAY_AMT4', 'PAY_AMT5', 'PAY_AMT6',\n",
       "       'default payment next month'],\n",
       "      dtype='object')"
      ]
     },
     "execution_count": 6,
     "metadata": {},
     "output_type": "execute_result"
    }
   ],
   "source": [
    "dcc.columns[5:25]"
   ]
  },
  {
   "cell_type": "code",
   "execution_count": 7,
   "metadata": {
    "scrolled": false
   },
   "outputs": [
    {
     "data": {
      "text/plain": [
       "array([[ True,  True,  True, ...,  True,  True,  True],\n",
       "       [ True,  True,  True, ...,  True,  True,  True],\n",
       "       [ True,  True,  True, ...,  True,  True,  True],\n",
       "       ...,\n",
       "       [ True,  True,  True, ...,  True,  True,  True],\n",
       "       [ True,  True,  True, ...,  True,  True,  True],\n",
       "       [ True,  True,  True, ...,  True, False,  True]])"
      ]
     },
     "execution_count": 7,
     "metadata": {},
     "output_type": "execute_result"
    }
   ],
   "source": [
    "np.random.seed(seed=0)\n",
    "masking_array= np.random.randint(100,size=(dcc.shape[0], 19)) < 94.5\n",
    "masking_array"
   ]
  },
  {
   "cell_type": "code",
   "execution_count": 8,
   "metadata": {
    "scrolled": true
   },
   "outputs": [],
   "source": [
    "dcc[dcc.columns[5:25]]=dcc[dcc.columns[5:25]].where(masking_array, np.nan)"
   ]
  },
  {
   "cell_type": "markdown",
   "metadata": {},
   "source": [
    "### Checking the missing values in each columns"
   ]
  },
  {
   "cell_type": "code",
   "execution_count": 9,
   "metadata": {
    "scrolled": true
   },
   "outputs": [
    {
     "data": {
      "text/plain": [
       "PAY_0                         True\n",
       "PAY_2                         True\n",
       "PAY_3                         True\n",
       "PAY_4                         True\n",
       "PAY_5                         True\n",
       "PAY_6                         True\n",
       "BILL_AMT1                     True\n",
       "BILL_AMT2                     True\n",
       "BILL_AMT3                     True\n",
       "BILL_AMT4                     True\n",
       "BILL_AMT5                     True\n",
       "BILL_AMT6                     True\n",
       "PAY_AMT1                      True\n",
       "PAY_AMT2                      True\n",
       "PAY_AMT3                      True\n",
       "PAY_AMT4                      True\n",
       "PAY_AMT5                      True\n",
       "PAY_AMT6                      True\n",
       "default payment next month    True\n",
       "dtype: bool"
      ]
     },
     "execution_count": 9,
     "metadata": {},
     "output_type": "execute_result"
    }
   ],
   "source": [
    "dcc.isna().any()[lambda x: x] "
   ]
  },
  {
   "cell_type": "markdown",
   "metadata": {},
   "source": [
    "#### Now we need to check the percentage of total missing data in the dataset, for this purpose we will create a function"
   ]
  },
  {
   "cell_type": "code",
   "execution_count": 10,
   "metadata": {
    "scrolled": true
   },
   "outputs": [],
   "source": [
    "def missing_data_percentage(df):\n",
    "    x = ['column_name','missing_values', 'missing_in_percentage']\n",
    "    missing_data = pd.DataFrame(columns=x)\n",
    "    columns = dcc.columns\n",
    "    for col in columns:\n",
    "        iscolumn_name = col\n",
    "        ismissing_values = dcc[col].isnull().sum()\n",
    "        ismissing_in_percentage = (dcc[col].isnull().sum()/dcc[col].shape[0])*100\n",
    "        \n",
    "        missing_data.loc[len(missing_data)] = [iscolumn_name, ismissing_values, ismissing_in_percentage]\n",
    "    print(missing_data.round(2))"
   ]
  },
  {
   "cell_type": "code",
   "execution_count": 11,
   "metadata": {
    "scrolled": true
   },
   "outputs": [
    {
     "name": "stdout",
     "output_type": "stream",
     "text": [
      "                   column_name missing_values  missing_in_percentage\n",
      "0                    LIMIT_BAL              0                   0.00\n",
      "1                          SEX              0                   0.00\n",
      "2                    EDUCATION              0                   0.00\n",
      "3                     MARRIAGE              0                   0.00\n",
      "4                          AGE              0                   0.00\n",
      "5                        PAY_0           1496                   4.99\n",
      "6                        PAY_2           1490                   4.97\n",
      "7                        PAY_3           1550                   5.17\n",
      "8                        PAY_4           1502                   5.01\n",
      "9                        PAY_5           1437                   4.79\n",
      "10                       PAY_6           1474                   4.91\n",
      "11                   BILL_AMT1           1459                   4.86\n",
      "12                   BILL_AMT2           1473                   4.91\n",
      "13                   BILL_AMT3           1514                   5.05\n",
      "14                   BILL_AMT4           1432                   4.77\n",
      "15                   BILL_AMT5           1462                   4.87\n",
      "16                   BILL_AMT6           1530                   5.10\n",
      "17                    PAY_AMT1           1466                   4.89\n",
      "18                    PAY_AMT2           1518                   5.06\n",
      "19                    PAY_AMT3           1491                   4.97\n",
      "20                    PAY_AMT4           1440                   4.80\n",
      "21                    PAY_AMT5           1475                   4.92\n",
      "22                    PAY_AMT6           1612                   5.37\n",
      "23  default payment next month           1518                   5.06\n"
     ]
    }
   ],
   "source": [
    "missing_data_percentage(dcc)"
   ]
  },
  {
   "cell_type": "markdown",
   "metadata": {},
   "source": [
    "### Data Transformation"
   ]
  },
  {
   "cell_type": "code",
   "execution_count": 12,
   "metadata": {
    "scrolled": true
   },
   "outputs": [],
   "source": [
    "dcc.rename(columns={'default payment next month':'Default_Payment'}, inplace=True)"
   ]
  },
  {
   "cell_type": "markdown",
   "metadata": {},
   "source": [
    "#### a) Let's address the redundant data in the columns to simplify data analysis. "
   ]
  },
  {
   "cell_type": "markdown",
   "metadata": {},
   "source": [
    "Let's check the column \"EDUCATION\" first. As mentioned in the dataset description \n",
    "EDUCATION: (0=?, 1=graduate school, 2=university, 3=high school, 4=others, 5=unknown, 6=unknown). In this case we can combine 0,4,5,6 under a common lablel '0'."
   ]
  },
  {
   "cell_type": "code",
   "execution_count": 13,
   "metadata": {
    "scrolled": true
   },
   "outputs": [
    {
     "name": "stdout",
     "output_type": "stream",
     "text": [
      "LIMIT_BAL          [20000, 120000, 90000, 50000, 500000, 100000, ...\n",
      "SEX                                                           [2, 1]\n",
      "EDUCATION                                      [2, 1, 3, 5, 4, 6, 0]\n",
      "MARRIAGE                                                [1, 2, 3, 0]\n",
      "AGE                [24, 26, 34, 37, 57, 29, 23, 28, 35, 51, 41, 3...\n",
      "PAY_0              [2.0, -1.0, 0.0, nan, 1.0, -2.0, 3.0, 4.0, 8.0...\n",
      "PAY_2              [2.0, 0.0, nan, -2.0, -1.0, 3.0, 5.0, 7.0, 4.0...\n",
      "PAY_3              [-1.0, 0.0, 2.0, -2.0, nan, 3.0, 4.0, 6.0, 7.0...\n",
      "PAY_4              [-1.0, 0.0, -2.0, 2.0, nan, 3.0, 4.0, 5.0, 7.0...\n",
      "PAY_5              [-2.0, 0.0, -1.0, 2.0, nan, 3.0, 5.0, 4.0, 7.0...\n",
      "PAY_6              [-2.0, 2.0, 0.0, -1.0, nan, 3.0, 4.0, 6.0, 7.0...\n",
      "BILL_AMT1          [3913.0, 2682.0, 29239.0, 46990.0, 8617.0, 644...\n",
      "BILL_AMT2          [3102.0, 1725.0, 14027.0, 48233.0, 5670.0, 570...\n",
      "BILL_AMT3          [689.0, 2682.0, 13559.0, 49291.0, 35835.0, 576...\n",
      "BILL_AMT4          [0.0, 3272.0, 14331.0, 28314.0, 20940.0, 19394...\n",
      "BILL_AMT5          [0.0, 3455.0, 14948.0, 28959.0, 19146.0, nan, ...\n",
      "BILL_AMT6          [0.0, 3261.0, 15549.0, 29547.0, 19131.0, 20024...\n",
      "PAY_AMT1           [0.0, 1518.0, 2000.0, 2500.0, 55000.0, 380.0, ...\n",
      "PAY_AMT2           [689.0, 1000.0, 1500.0, 2019.0, 36681.0, 1815....\n",
      "PAY_AMT3           [0.0, nan, 1000.0, 1200.0, 10000.0, 657.0, 380...\n",
      "PAY_AMT4           [0.0, 1000.0, 1100.0, 9000.0, 20239.0, 581.0, ...\n",
      "PAY_AMT5           [0.0, 1000.0, 1069.0, 689.0, 13750.0, 1687.0, ...\n",
      "PAY_AMT6           [0.0, 2000.0, 5000.0, 1000.0, nan, 800.0, 1377...\n",
      "Default_Payment                                      [1.0, 0.0, nan]\n",
      "dtype: object\n"
     ]
    }
   ],
   "source": [
    "print(dcc.apply(lambda col: col.unique())) "
   ]
  },
  {
   "cell_type": "code",
   "execution_count": 14,
   "metadata": {
    "scrolled": true
   },
   "outputs": [],
   "source": [
    "dcc.loc[dcc.EDUCATION >= 4, 'EDUCATION'] = 0"
   ]
  },
  {
   "cell_type": "code",
   "execution_count": 15,
   "metadata": {
    "scrolled": false
   },
   "outputs": [
    {
     "data": {
      "text/plain": [
       "array([2, 1, 3, 0], dtype=int64)"
      ]
     },
     "execution_count": 15,
     "metadata": {},
     "output_type": "execute_result"
    }
   ],
   "source": [
    "#checking the unique values in the column 'EDUCATION'\n",
    "dcc['EDUCATION'].unique()"
   ]
  },
  {
   "cell_type": "markdown",
   "metadata": {},
   "source": [
    "#### Now let's check the next column, 'MARRIAGE'. From the dataset description we realize that\n",
    "MARRIAGE: Marital status (0=?,1=married, 2=single, 3=others) In this case we can combine 0,3 under a common lablel '0'."
   ]
  },
  {
   "cell_type": "code",
   "execution_count": 16,
   "metadata": {
    "scrolled": true
   },
   "outputs": [],
   "source": [
    "dcc.loc[dcc.MARRIAGE == 3, 'MARRIAGE'] = 0"
   ]
  },
  {
   "cell_type": "code",
   "execution_count": 17,
   "metadata": {
    "scrolled": true
   },
   "outputs": [
    {
     "data": {
      "text/plain": [
       "array([1, 2, 0], dtype=int64)"
      ]
     },
     "execution_count": 17,
     "metadata": {},
     "output_type": "execute_result"
    }
   ],
   "source": [
    "#checking the unique values in the column 'EDUCATION'\n",
    "dcc['MARRIAGE'].unique()"
   ]
  },
  {
   "cell_type": "markdown",
   "metadata": {},
   "source": [
    "#### b) Let's fill up the missing values now"
   ]
  },
  {
   "cell_type": "markdown",
   "metadata": {},
   "source": [
    "<b>For columns (PAY_0, PAY_2, PAY_4, PAY_5, PAY_6, default payment next month) the values are categorical because it's best representation of the central tendency without creating\n",
    "ambiguties in case of categorical values</b>"
   ]
  },
  {
   "cell_type": "code",
   "execution_count": 18,
   "metadata": {
    "scrolled": true
   },
   "outputs": [],
   "source": [
    "dcc['PAY_0'].fillna(dcc['PAY_0'].mode()[0],inplace= True)\n",
    "dcc['PAY_2'].fillna(dcc['PAY_2'].mode()[0],inplace= True)\n",
    "dcc['PAY_3'].fillna(dcc['PAY_3'].mode()[0],inplace= True)\n",
    "dcc['PAY_4'].fillna(dcc['PAY_4'].mode()[0],inplace= True)\n",
    "dcc['PAY_5'].fillna(dcc['PAY_5'].mode()[0],inplace= True)\n",
    "dcc['PAY_6'].fillna(dcc['PAY_6'].mode()[0],inplace= True)"
   ]
  },
  {
   "cell_type": "code",
   "execution_count": 19,
   "metadata": {
    "scrolled": true
   },
   "outputs": [],
   "source": [
    "dcc['Default_Payment'].fillna(dcc['Default_Payment'].mode()[0],inplace= True)"
   ]
  },
  {
   "cell_type": "markdown",
   "metadata": {},
   "source": [
    "<b>For columns BILL AMOUNT and PAY AMOUNT the values are continuous and for columns containing countinuous values no matter how many times we add mean, we are in a way replacing the unknown value by the average of observed data for that variable. </b>"
   ]
  },
  {
   "cell_type": "code",
   "execution_count": 20,
   "metadata": {
    "scrolled": true
   },
   "outputs": [],
   "source": [
    "dcc['PAY_AMT1'].fillna(dcc['PAY_AMT1'].mean(),inplace= True)\n",
    "dcc['PAY_AMT2'].fillna(dcc['PAY_AMT2'].mean(),inplace= True)\n",
    "dcc['PAY_AMT3'].fillna(dcc['PAY_AMT3'].mean(),inplace= True)\n",
    "dcc['PAY_AMT4'].fillna(dcc['PAY_AMT4'].mean(),inplace= True)\n",
    "dcc['PAY_AMT5'].fillna(dcc['PAY_AMT5'].mean(),inplace= True)\n",
    "dcc['PAY_AMT6'].fillna(dcc['PAY_AMT6'].mean(),inplace= True)"
   ]
  },
  {
   "cell_type": "code",
   "execution_count": 21,
   "metadata": {
    "scrolled": true
   },
   "outputs": [],
   "source": [
    "dcc['BILL_AMT1'].fillna(dcc['BILL_AMT1'].mean(),inplace= True)\n",
    "dcc['BILL_AMT2'].fillna(dcc['BILL_AMT1'].mean(),inplace= True)\n",
    "dcc['BILL_AMT3'].fillna(dcc['BILL_AMT1'].mean(),inplace= True)\n",
    "dcc['BILL_AMT4'].fillna(dcc['BILL_AMT1'].mean(),inplace= True)\n",
    "dcc['BILL_AMT5'].fillna(dcc['BILL_AMT1'].mean(),inplace= True)\n",
    "dcc['BILL_AMT6'].fillna(dcc['BILL_AMT1'].mean(),inplace= True)"
   ]
  },
  {
   "cell_type": "markdown",
   "metadata": {},
   "source": [
    "#### Let's check now if any column has null values"
   ]
  },
  {
   "cell_type": "code",
   "execution_count": 22,
   "metadata": {
    "scrolled": false
   },
   "outputs": [
    {
     "data": {
      "text/plain": [
       "LIMIT_BAL          0\n",
       "SEX                0\n",
       "EDUCATION          0\n",
       "MARRIAGE           0\n",
       "AGE                0\n",
       "PAY_0              0\n",
       "PAY_2              0\n",
       "PAY_3              0\n",
       "PAY_4              0\n",
       "PAY_5              0\n",
       "PAY_6              0\n",
       "BILL_AMT1          0\n",
       "BILL_AMT2          0\n",
       "BILL_AMT3          0\n",
       "BILL_AMT4          0\n",
       "BILL_AMT5          0\n",
       "BILL_AMT6          0\n",
       "PAY_AMT1           0\n",
       "PAY_AMT2           0\n",
       "PAY_AMT3           0\n",
       "PAY_AMT4           0\n",
       "PAY_AMT5           0\n",
       "PAY_AMT6           0\n",
       "Default_Payment    0\n",
       "dtype: int64"
      ]
     },
     "execution_count": 22,
     "metadata": {},
     "output_type": "execute_result"
    }
   ],
   "source": [
    "dcc.isna().sum()"
   ]
  },
  {
   "cell_type": "markdown",
   "metadata": {},
   "source": [
    "### Exploratory Data Analaysis Using Data Visualization"
   ]
  },
  {
   "cell_type": "markdown",
   "metadata": {},
   "source": [
    "### a) Distribution of target classes "
   ]
  },
  {
   "cell_type": "code",
   "execution_count": 23,
   "metadata": {
    "scrolled": false
   },
   "outputs": [
    {
     "data": {
      "text/plain": [
       "Text(0, 0.5, 'Number of Defaulters')"
      ]
     },
     "execution_count": 23,
     "metadata": {},
     "output_type": "execute_result"
    },
    {
     "data": {
      "image/png": "[encoded data removed]",
      "text/plain": [
       "<Figure size 432x288 with 1 Axes>"
      ]
     },
     "metadata": {
      "needs_background": "light"
     },
     "output_type": "display_data"
    }
   ],
   "source": [
    "dcc['Default_Payment'].value_counts().plot(kind='bar')\n",
    "plt.xlabel('Default_Payment ')\n",
    "plt.ylabel('Number of Defaulters')"
   ]
  },
  {
   "cell_type": "markdown",
   "metadata": {},
   "source": [
    "###### We can cleary see that Distribution of target classes is highly imbalanced and most people pay credit cards bills on time "
   ]
  },
  {
   "cell_type": "markdown",
   "metadata": {},
   "source": [
    "### b) Co-relation of feature-set"
   ]
  },
  {
   "cell_type": "code",
   "execution_count": 24,
   "metadata": {
    "scrolled": false
   },
   "outputs": [
    {
     "data": {
      "text/plain": [
       "<AxesSubplot:>"
      ]
     },
     "execution_count": 24,
     "metadata": {},
     "output_type": "execute_result"
    },
    {
     "data": {
      "image/png": "[encoded data removed]",
      "text/plain": [
       "<Figure size 1440x1440 with 2 Axes>"
      ]
     },
     "metadata": {
      "needs_background": "light"
     },
     "output_type": "display_data"
    }
   ],
   "source": [
    "plt.figure(figsize=(20,20))\n",
    "sns.heatmap(dcc.corr(), annot=True)"
   ]
  },
  {
   "cell_type": "markdown",
   "metadata": {},
   "source": [
    "#####  1)PAY_0, PAY_2, PAY_3, PAY_4, PAY_5, PAY_6 which represent payment status from April 2005 to September 2005 are highly co-related to each other indicating late payment in one month could lead to late payment in subsequent months as well\n",
    "##### 2) BILL_AMT1 ,BILL_AMT2, BILL_AMT3, BILL_AMT4, BILL_AMT5, BILL_AMT6 are the Amount of bill statement from April to September are again strongly co-related "
   ]
  },
  {
   "cell_type": "markdown",
   "metadata": {},
   "source": [
    "### c) Default Payment by AGE and Limit Balance"
   ]
  },
  {
   "cell_type": "code",
   "execution_count": 25,
   "metadata": {
    "scrolled": false
   },
   "outputs": [
    {
     "data": {
      "image/png": "[encoded data removed]",
      "text/plain": [
       "<Figure size 864x432 with 2 Axes>"
      ]
     },
     "metadata": {
      "needs_background": "light"
     },
     "output_type": "display_data"
    }
   ],
   "source": [
    "fig, (ax1, ax2) = plt.subplots(ncols=2, figsize=(12,6))\n",
    "s = sns.boxplot(ax = ax1, x=\"Default_Payment\", y=\"AGE\", hue=\"Default_Payment\",data=dcc, palette=\"PRGn\",showfliers=True)\n",
    "s = sns.boxplot(ax = ax2, x=\"Default_Payment\", y=\"LIMIT_BAL\", hue=\"Default_Payment\",data=dcc, palette=\"PRGn\",showfliers=False)\n",
    "plt.show();"
   ]
  },
  {
   "cell_type": "markdown",
   "metadata": {},
   "source": [
    "##### 1) The dataset mostly contains people in their late-20s to late-40s who are both defaulters and non-defaulters\n",
    "##### 2) Majority of Defaulters have Limit Balance of less the 200000"
   ]
  },
  {
   "cell_type": "markdown",
   "metadata": {},
   "source": [
    "### d) Credit Limit by SEX"
   ]
  },
  {
   "cell_type": "code",
   "execution_count": 26,
   "metadata": {
    "scrolled": false
   },
   "outputs": [
    {
     "data": {
      "image/png": "[encoded data removed]",
      "text/plain": [
       "<Figure size 1152x432 with 3 Axes>"
      ]
     },
     "metadata": {
      "needs_background": "light"
     },
     "output_type": "display_data"
    }
   ],
   "source": [
    "fig, (ax1, ax2, ax3) = plt.subplots(ncols=3, figsize=(16,6))\n",
    "s = sns.boxplot(ax = ax1, x=\"SEX\", y=\"LIMIT_BAL\", hue=\"SEX\",data=dcc, palette=\"PRGn\",showfliers=True)\n",
    "s = sns.boxplot(ax = ax2, x=\"EDUCATION\", y=\"LIMIT_BAL\", hue=\"EDUCATION\",data=dcc, palette=\"PRGn\",showfliers=False)\n",
    "s = sns.boxplot(ax = ax3, x=\"MARRIAGE\", y=\"LIMIT_BAL\", hue=\"MARRIAGE\",data=dcc, palette=\"PRGn\",showfliers=False)\n",
    "plt.show()"
   ]
  },
  {
   "cell_type": "markdown",
   "metadata": {},
   "source": [
    "##### 1) The dataset contains almost similar distribution LIMIT_BAL for both male\n",
    "##### 2) The median LIMIT_BAL  of the people who have graduate school degree in highest. \n",
    "##### 3) People who are married are observed to have greater median of LIMIT_BAL than single and others. "
   ]
  },
  {
   "cell_type": "markdown",
   "metadata": {},
   "source": [
    "### There are no recommended changes "
   ]
  },
  {
   "cell_type": "markdown",
   "metadata": {},
   "source": [
    "### Data Prepartion for Analysis and Classification "
   ]
  },
  {
   "cell_type": "markdown",
   "metadata": {},
   "source": [
    "### Train Test Split"
   ]
  },
  {
   "cell_type": "code",
   "execution_count": 27,
   "metadata": {
    "scrolled": true
   },
   "outputs": [],
   "source": [
    "X = dcc.drop('Default_Payment',axis =1)\n",
    "y = dcc['Default_Payment']\n",
    "X_train_org, X_test_org, y_train, y_test = train_test_split(X, y, random_state = 0)"
   ]
  },
  {
   "cell_type": "code",
   "execution_count": 28,
   "metadata": {
    "scrolled": true
   },
   "outputs": [],
   "source": [
    "scaler = MinMaxScaler()\n",
    "X_train = scaler.fit_transform(X_train_org)\n",
    "X_test = scaler.transform(X_test_org)"
   ]
  },
  {
   "cell_type": "markdown",
   "metadata": {},
   "source": [
    "<h2> CLASSIFICATION TASKS </h2>"
   ]
  },
  {
   "cell_type": "markdown",
   "metadata": {},
   "source": [
    "#### For all classification tasks we will have the follwing approach\n",
    "1. Find the best Hyperparaemeters for the base class using Grid Search\n",
    "2. Find the best Hyperparaemeters for the voting/bagging/booster class using Grid Search\n",
    "3. Combine the best parameters to create a new model \n",
    "4. Train and Test the new model on the dataset and find the train score, test score, accuracy, f1 score. "
   ]
  },
  {
   "cell_type": "markdown",
   "metadata": {},
   "source": [
    "<h3> 1) Apply two voting classifiers - one with hard voting and one with soft voting. </h3> \n",
    "\n",
    "##### Since each model participating in soft voting should have an ability to predict probablity as a part of model training, we are going to use Logistic Regression and Support Vector Machine as two voting classifier for this task. "
   ]
  },
  {
   "cell_type": "markdown",
   "metadata": {},
   "source": [
    "### HARD VOTING : Class prediction with the largest sum of votes from base models\n"
   ]
  },
  {
   "cell_type": "code",
   "execution_count": 29,
   "metadata": {
    "scrolled": true
   },
   "outputs": [
    {
     "name": "stdout",
     "output_type": "stream",
     "text": [
      "Fitting 5 folds for each of 1190 candidates, totalling 5950 fits\n"
     ]
    },
    {
     "name": "stderr",
     "output_type": "stream",
     "text": [
      "[Parallel(n_jobs=-1)]: Using backend LokyBackend with 8 concurrent workers.\n",
      "[Parallel(n_jobs=-1)]: Done  34 tasks      | elapsed:    3.8s\n",
      "[Parallel(n_jobs=-1)]: Done 640 tasks      | elapsed:   12.4s\n",
      "[Parallel(n_jobs=-1)]: Done 890 tasks      | elapsed:   17.9s\n",
      "[Parallel(n_jobs=-1)]: Done 1280 tasks      | elapsed:   24.9s\n",
      "[Parallel(n_jobs=-1)]: Done 2146 tasks      | elapsed:   44.4s\n",
      "[Parallel(n_jobs=-1)]: Done 3152 tasks      | elapsed:  1.1min\n",
      "[Parallel(n_jobs=-1)]: Done 4258 tasks      | elapsed:  1.6min\n",
      "[Parallel(n_jobs=-1)]: Done 5464 tasks      | elapsed:  2.1min\n",
      "[Parallel(n_jobs=-1)]: Done 5950 out of 5950 | elapsed:  2.5min finished\n"
     ]
    },
    {
     "data": {
      "text/plain": [
       "GridSearchCV(cv=5, estimator=LogisticRegression(random_state=0), n_jobs=-1,\n",
       "             param_grid={'C': [0.1, 1, 10, 100, 1000],\n",
       "                         'max_iter': range(1, 120), 'penalty': ['l1', 'l2']},\n",
       "             return_train_score=True, verbose=1)"
      ]
     },
     "execution_count": 29,
     "metadata": {},
     "output_type": "execute_result"
    }
   ],
   "source": [
    "param_grid_logit = { 'max_iter' : range(1,120), 'penalty' : ['l1','l2'],'C' : [0.1, 1, 10, 100, 1000]}\n",
    "grid_search_logit = GridSearchCV(estimator=LogisticRegression(random_state = 0), param_grid = param_grid_logit, \n",
    "                                 cv = 5, verbose = 1, n_jobs = -1, return_train_score = True)\n",
    "grid_search_logit.fit(X_train, y_train)"
   ]
  },
  {
   "cell_type": "code",
   "execution_count": 30,
   "metadata": {
    "scrolled": true
   },
   "outputs": [
    {
     "name": "stdout",
     "output_type": "stream",
     "text": [
      "Best parameters Logistic Regression: {'C': 1000, 'max_iter': 90, 'penalty': 'l2'}\n"
     ]
    }
   ],
   "source": [
    "print(\"Best parameters Logistic Regression: {}\".format(grid_search_logit.best_params_))"
   ]
  },
  {
   "cell_type": "code",
   "execution_count": 31,
   "metadata": {
    "scrolled": true
   },
   "outputs": [
    {
     "data": {
      "text/plain": [
       "VotingClassifier(estimators=[('lr',\n",
       "                              LogisticRegression(C=1000, max_iter=90,\n",
       "                                                 random_state=0)),\n",
       "                             ('svc',\n",
       "                              SVC(C=10, probability=True, random_state=0))])"
      ]
     },
     "execution_count": 31,
     "metadata": {},
     "output_type": "execute_result"
    }
   ],
   "source": [
    "logistic_hvoting = LogisticRegression(C=1000, random_state=0, max_iter=90, penalty='l2')\n",
    "logistic_hvoting.fit(X_train, y_train)\n",
    "\n",
    "svm_hvoting = SVC(C = 10, probability=True, random_state=0)\n",
    "svm_hvoting.fit(X_train, y_train) \n",
    "\n",
    "h_voting_classifier = VotingClassifier(estimators=[('lr', logistic_hvoting), ('svc', svm_hvoting)], voting='hard')\n",
    "h_voting_classifier.fit(X_train, y_train)"
   ]
  },
  {
   "cell_type": "code",
   "execution_count": 32,
   "metadata": {
    "scrolled": true
   },
   "outputs": [
    {
     "name": "stdout",
     "output_type": "stream",
     "text": [
      "LogisticRegression 0.817\n",
      "SVC 0.823\n",
      "VotingClassifier 0.815\n"
     ]
    }
   ],
   "source": [
    "for hvoting in (logistic_hvoting, svm_hvoting, h_voting_classifier):\n",
    "    hvoting.fit(X_train, y_train)\n",
    "    y_pred = hvoting.predict(X_test)\n",
    "    print(hvoting.__class__.__name__, accuracy_score(y_test, y_pred).round(3))"
   ]
  },
  {
   "cell_type": "markdown",
   "metadata": {},
   "source": [
    "### SOFT VOTING : Class prediction with the average probability from models."
   ]
  },
  {
   "cell_type": "code",
   "execution_count": 33,
   "metadata": {
    "scrolled": false
   },
   "outputs": [
    {
     "data": {
      "text/plain": [
       "VotingClassifier(estimators=[('lr',\n",
       "                              LogisticRegression(C=1000, max_iter=90,\n",
       "                                                 random_state=0)),\n",
       "                             ('svc',\n",
       "                              SVC(C=10, probability=True, random_state=0))],\n",
       "                 voting='soft')"
      ]
     },
     "execution_count": 33,
     "metadata": {},
     "output_type": "execute_result"
    }
   ],
   "source": [
    "logistic_svoting = LogisticRegression( random_state=0, C=1000, max_iter=90, penalty='l2')\n",
    "logistic_svoting.fit(X_train, y_train)\n",
    "\n",
    "svm_svoting = SVC(C = 10, probability=True, random_state=0)\n",
    "svm_svoting.fit(X_train, y_train) \n",
    "\n",
    "s_voting_classifier = VotingClassifier(estimators=[('lr', logistic_svoting), ('svc', svm_svoting)], voting='soft')\n",
    "s_voting_classifier.fit(X_train, y_train)\n"
   ]
  },
  {
   "cell_type": "code",
   "execution_count": 34,
   "metadata": {
    "scrolled": true
   },
   "outputs": [
    {
     "name": "stdout",
     "output_type": "stream",
     "text": [
      "LogisticRegression 0.817\n",
      "SVC 0.823\n",
      "VotingClassifier 0.82\n"
     ]
    }
   ],
   "source": [
    "for svoting in (logistic_svoting, svm_svoting, s_voting_classifier):\n",
    "    svoting.fit(X_train, y_train)\n",
    "    y_pred = svoting.predict(X_test)\n",
    "    print(svoting.__class__.__name__, accuracy_score(y_test, y_pred).round(3))"
   ]
  },
  {
   "cell_type": "markdown",
   "metadata": {},
   "source": [
    "<h3> 2) Apply any two models with bagging and any two models with pasting. </h3>"
   ]
  },
  {
   "cell_type": "markdown",
   "metadata": {},
   "source": [
    "### Bagging : Bootstrap = 'True'\n",
    "\n",
    "##### This ensemble machine learning algorithm combines the result of multiple decision tress derived from running the model on the samples in  the bags (collection of random samples) . The sample used for each decision tree is randomly selected and everytime a new bag is created all the sample in training dataset are available for the bagging process, allowing it to be selected again and perhaps multiple times in the new bags"
   ]
  },
  {
   "cell_type": "markdown",
   "metadata": {},
   "source": [
    "### a) Decision Tree Bagging Classifier"
   ]
  },
  {
   "cell_type": "code",
   "execution_count": 35,
   "metadata": {
    "scrolled": false
   },
   "outputs": [
    {
     "data": {
      "text/plain": [
       "GridSearchCV(cv=7, estimator=DecisionTreeClassifier(random_state=0),\n",
       "             param_grid={'max_depth': range(1, 15)}, return_train_score=True)"
      ]
     },
     "execution_count": 35,
     "metadata": {},
     "output_type": "execute_result"
    }
   ],
   "source": [
    "param_grid_dtree = {'max_depth': range(1,15)}\n",
    "dtree_grid_search = GridSearchCV(DecisionTreeClassifier(random_state=0), cv=7, \n",
    "                                 param_grid = param_grid_dtree, return_train_score=True)\n",
    "dtree_grid_search.fit(X_train, y_train)"
   ]
  },
  {
   "cell_type": "code",
   "execution_count": 36,
   "metadata": {
    "scrolled": true
   },
   "outputs": [
    {
     "name": "stdout",
     "output_type": "stream",
     "text": [
      "Best parameters : Decision Tree grid search : {'max_depth': 4}\n"
     ]
    }
   ],
   "source": [
    "print(\"Best parameters : Decision Tree grid search : {}\".format(dtree_grid_search.best_params_))"
   ]
  },
  {
   "cell_type": "code",
   "execution_count": 37,
   "metadata": {
    "scrolled": true
   },
   "outputs": [
    {
     "data": {
      "text/plain": [
       "GridSearchCV(cv=5,\n",
       "             estimator=BaggingClassifier(base_estimator=DecisionTreeClassifier(max_depth=4,\n",
       "                                                                               random_state=0)),\n",
       "             n_jobs=-1,\n",
       "             param_grid={'max_samples': [0.1, 0.2, 0.3, 0.4, 0.5],\n",
       "                         'n_estimators': [200, 300, 400, 500]})"
      ]
     },
     "execution_count": 37,
     "metadata": {},
     "output_type": "execute_result"
    }
   ],
   "source": [
    "param_grid_bag = {'n_estimators':[200, 300, 400, 500], 'max_samples':[0.1, 0.2, 0.3, 0.4, 0.5]}\n",
    "              \n",
    "bag_dtree_classifier = BaggingClassifier(DecisionTreeClassifier(max_depth = 4, random_state = 0))\n",
    "bag_grid_search = GridSearchCV(bag_dtree_classifier, param_grid = param_grid_bag, cv = 5, n_jobs = -1)\n",
    "bag_grid_search.fit(X_train, y_train)"
   ]
  },
  {
   "cell_type": "code",
   "execution_count": 38,
   "metadata": {
    "scrolled": true
   },
   "outputs": [
    {
     "name": "stdout",
     "output_type": "stream",
     "text": [
      "Best parameters : Decision Tree Bagging : {'max_samples': 0.5, 'n_estimators': 200}\n"
     ]
    }
   ],
   "source": [
    "print(\"Best parameters : Decision Tree Bagging : {}\".format(bag_grid_search.best_params_))"
   ]
  },
  {
   "cell_type": "markdown",
   "metadata": {},
   "source": [
    "#### Combining the best parameters of base model and bagging to create a new model. "
   ]
  },
  {
   "cell_type": "markdown",
   "metadata": {},
   "source": [
    "### ."
   ]
  },
  {
   "cell_type": "code",
   "execution_count": 39,
   "metadata": {
    "scrolled": true
   },
   "outputs": [],
   "source": [
    "best_dtree = DecisionTreeClassifier(max_depth = 4, random_state=0)\n",
    "best_bagging = BaggingClassifier(best_dtree, n_estimators=200, max_samples=0.5, oob_score= True,\n",
    "                                 bootstrap=True, n_jobs=-1, random_state=0)\n",
    "best_bagging.fit(X_train, y_train)\n",
    "y_pred = best_bagging.predict(X_test)"
   ]
  },
  {
   "cell_type": "code",
   "execution_count": 40,
   "metadata": {
    "scrolled": true
   },
   "outputs": [
    {
     "name": "stdout",
     "output_type": "stream",
     "text": [
      "Train score: 0.826\n",
      "Test score: 0.830\n",
      "Out-of-bag score: 0.823\n"
     ]
    }
   ],
   "source": [
    "print('Train score: %.3f'%best_bagging.score(X_train, y_train))\n",
    "print('Test score: %.3f'%best_bagging.score(X_test, y_test))\n",
    "print('Out-of-bag score: %.3f'%best_bagging.oob_score_)"
   ]
  },
  {
   "cell_type": "code",
   "execution_count": 41,
   "metadata": {
    "scrolled": true
   },
   "outputs": [
    {
     "name": "stdout",
     "output_type": "stream",
     "text": [
      "              precision    recall  f1-score   support\n",
      "\n",
      "    Default        0.85      0.95      0.90      5950\n",
      "  No Default       0.67      0.35      0.46      1550\n",
      "\n",
      "    accuracy                           0.83      7500\n",
      "   macro avg       0.76      0.65      0.68      7500\n",
      "weighted avg       0.81      0.83      0.81      7500\n",
      "\n"
     ]
    }
   ],
   "source": [
    "print(classification_report(y_test, best_bagging.predict(X_test), target_names=[\"Default \", \"No Default\"]))"
   ]
  },
  {
   "cell_type": "code",
   "execution_count": 42,
   "metadata": {
    "scrolled": false
   },
   "outputs": [
    {
     "name": "stdout",
     "output_type": "stream",
     "text": [
      "[[5677  273]\n",
      " [1004  546]]\n"
     ]
    }
   ],
   "source": [
    "print(confusion_matrix(y_pred = y_pred, y_true = y_test))"
   ]
  },
  {
   "cell_type": "code",
   "execution_count": 43,
   "metadata": {
    "scrolled": true
   },
   "outputs": [
    {
     "data": {
      "image/png": "[encoded data removed]",
      "text/plain": [
       "<Figure size 432x288 with 1 Axes>"
      ]
     },
     "metadata": {
      "needs_background": "light"
     },
     "output_type": "display_data"
    }
   ],
   "source": [
    "import mglearn\n",
    "heatmap = mglearn.tools.heatmap(\n",
    "    confusion_matrix(y_pred = y_pred, y_true = y_test), xlabel = 'Predicted label',\n",
    "    ylabel='True label', xticklabels = ['No Default','Default'], yticklabels=['No Default','Default'], cmap = \"RdYlGn\", fmt=\"%d\")\n",
    "plt.title(\"Confusion matrix\")\n",
    "plt.gca().invert_yaxis()"
   ]
  },
  {
   "cell_type": "code",
   "execution_count": 44,
   "metadata": {
    "scrolled": false
   },
   "outputs": [
    {
     "name": "stdout",
     "output_type": "stream",
     "text": [
      "Precision score : 0.667\n"
     ]
    }
   ],
   "source": [
    "print('Precision score : {:.3f}'.format(precision_score(y_test, best_bagging.predict(X_test))))"
   ]
  },
  {
   "cell_type": "code",
   "execution_count": 45,
   "metadata": {
    "scrolled": false
   },
   "outputs": [
    {
     "name": "stdout",
     "output_type": "stream",
     "text": [
      "Recall score : 0.352 \n"
     ]
    }
   ],
   "source": [
    "print('Recall score : {:.3f} '.format(recall_score(y_test, best_bagging.predict(X_test))))"
   ]
  },
  {
   "cell_type": "code",
   "execution_count": 46,
   "metadata": {
    "scrolled": true
   },
   "outputs": [
    {
     "name": "stdout",
     "output_type": "stream",
     "text": [
      "f1 score : 0.461 \n"
     ]
    }
   ],
   "source": [
    "print('f1 score : {:.3f} '.format(f1_score(y_test, best_bagging.predict(X_test))))"
   ]
  },
  {
   "cell_type": "code",
   "execution_count": 47,
   "metadata": {
    "scrolled": true
   },
   "outputs": [
    {
     "name": "stdout",
     "output_type": "stream",
     "text": [
      "Accuracy : 0.830 \n"
     ]
    }
   ],
   "source": [
    "print('Accuracy : {:.3f} '.format(accuracy_score(y_test, best_bagging.predict(X_test))))"
   ]
  },
  {
   "cell_type": "markdown",
   "metadata": {},
   "source": [
    "### b) Random Forest Bagging Classifier"
   ]
  },
  {
   "cell_type": "code",
   "execution_count": 48,
   "metadata": {
    "scrolled": true
   },
   "outputs": [
    {
     "data": {
      "text/plain": [
       "GridSearchCV(cv=5, estimator=RandomForestClassifier(random_state=0),\n",
       "             param_grid={'max_depth': range(1, 10), 'max_features': [0.3, 0.5],\n",
       "                         'max_samples': [0.1, 0.5],\n",
       "                         'n_estimators': [100, 300, 500]})"
      ]
     },
     "execution_count": 48,
     "metadata": {},
     "output_type": "execute_result"
    }
   ],
   "source": [
    "from sklearn.ensemble import RandomForestClassifier\n",
    "param_grid_rf = {'max_depth': range(1,10),'n_estimators':[100, 300, 500], \n",
    "              'max_features':[0.3, 0.5],'max_samples':[0.1, 0.5]}\n",
    "rf_grid_search = GridSearchCV(RandomForestClassifier(random_state = 0), param_grid = param_grid_rf, cv = 5)\n",
    "rf_grid_search.fit(X_train, y_train)"
   ]
  },
  {
   "cell_type": "code",
   "execution_count": 49,
   "metadata": {
    "scrolled": true
   },
   "outputs": [
    {
     "name": "stdout",
     "output_type": "stream",
     "text": [
      "Best parameters : Random Forest Bagging grid search :{'max_depth': 5, 'max_features': 0.5, 'max_samples': 0.5, 'n_estimators': 500}\n"
     ]
    }
   ],
   "source": [
    "print(\"Best parameters : Random Forest Bagging grid search :{}\".format(rf_grid_search.best_params_))"
   ]
  },
  {
   "cell_type": "markdown",
   "metadata": {},
   "source": [
    "#### Combining the best paratmeters of base model and bagging to create a new model"
   ]
  },
  {
   "cell_type": "code",
   "execution_count": 50,
   "metadata": {
    "scrolled": true
   },
   "outputs": [],
   "source": [
    "best_rf = RandomForestClassifier(bootstrap = True, max_depth = 5, max_features = 0.5, \n",
    "                                 max_samples = 0.5, n_estimators = 500, random_state = 0)\n",
    "best_rf.fit(X_train, y_train)\n",
    "y_pred = best_rf.predict(X_test)"
   ]
  },
  {
   "cell_type": "code",
   "execution_count": 51,
   "metadata": {
    "scrolled": false
   },
   "outputs": [
    {
     "name": "stdout",
     "output_type": "stream",
     "text": [
      "Test score: 0.830\n",
      "Train score: 0.827\n"
     ]
    }
   ],
   "source": [
    "print('Test score: %.3f'%best_rf.score(X_test, y_test))\n",
    "print('Train score: %.3f'%best_rf.score(X_train, y_train))"
   ]
  },
  {
   "cell_type": "code",
   "execution_count": 52,
   "metadata": {
    "scrolled": true
   },
   "outputs": [
    {
     "name": "stdout",
     "output_type": "stream",
     "text": [
      "              precision    recall  f1-score   support\n",
      "\n",
      "    Default        0.85      0.95      0.90      5950\n",
      "  No Default       0.67      0.35      0.46      1550\n",
      "\n",
      "    accuracy                           0.83      7500\n",
      "   macro avg       0.76      0.65      0.68      7500\n",
      "weighted avg       0.81      0.83      0.81      7500\n",
      "\n"
     ]
    }
   ],
   "source": [
    "print(classification_report(y_test, y_pred=best_rf.predict(X_test), target_names=[\"Default \", \"No Default\"]))"
   ]
  },
  {
   "cell_type": "code",
   "execution_count": 53,
   "metadata": {
    "scrolled": true
   },
   "outputs": [
    {
     "data": {
      "image/png": "[encoded data removed]",
      "text/plain": [
       "<Figure size 432x288 with 1 Axes>"
      ]
     },
     "metadata": {
      "needs_background": "light"
     },
     "output_type": "display_data"
    }
   ],
   "source": [
    "import mglearn\n",
    "heatmap = mglearn.tools.heatmap(\n",
    "    confusion_matrix(y_pred = best_rf.predict(X_test), y_true = y_test), xlabel = 'Predicted label',\n",
    "    ylabel='True label', xticklabels = ['No Default','Default'], yticklabels=['No Default','Default'], cmap = \"RdYlGn\", fmt=\"%d\")\n",
    "plt.title(\"Confusion matrix\")\n",
    "plt.gca().invert_yaxis()"
   ]
  },
  {
   "cell_type": "code",
   "execution_count": 54,
   "metadata": {
    "scrolled": true
   },
   "outputs": [
    {
     "name": "stdout",
     "output_type": "stream",
     "text": [
      "Precision score : 0.668\n"
     ]
    }
   ],
   "source": [
    "print('Precision score : {:.3f}'.format(precision_score(y_test, best_rf.predict(X_test))))"
   ]
  },
  {
   "cell_type": "code",
   "execution_count": 55,
   "metadata": {
    "scrolled": true
   },
   "outputs": [
    {
     "name": "stdout",
     "output_type": "stream",
     "text": [
      "Recall score : 0.348 \n"
     ]
    }
   ],
   "source": [
    "print('Recall score : {:.3f} '.format(recall_score(y_test, best_rf.predict(X_test))))"
   ]
  },
  {
   "cell_type": "code",
   "execution_count": 56,
   "metadata": {
    "scrolled": true
   },
   "outputs": [
    {
     "name": "stdout",
     "output_type": "stream",
     "text": [
      "f1 score : 0.458 \n"
     ]
    }
   ],
   "source": [
    "print('f1 score : {:.3f} '.format(f1_score(y_test, best_rf.predict(X_test))))"
   ]
  },
  {
   "cell_type": "code",
   "execution_count": 57,
   "metadata": {
    "scrolled": true
   },
   "outputs": [
    {
     "name": "stdout",
     "output_type": "stream",
     "text": [
      "Accuracy : 0.830 \n"
     ]
    }
   ],
   "source": [
    "print('Accuracy : {:.3f} '.format(accuracy_score(y_test, best_rf.predict(X_test))))"
   ]
  },
  {
   "cell_type": "code",
   "execution_count": 58,
   "metadata": {
    "scrolled": false
   },
   "outputs": [
    {
     "data": {
      "image/png": "[encoded data removed]",
      "text/plain": [
       "<Figure size 648x360 with 1 Axes>"
      ]
     },
     "metadata": {
      "needs_background": "light"
     },
     "output_type": "display_data"
    }
   ],
   "source": [
    "figt = pd.DataFrame({'Features': X.columns, 'Feature importance': best_rf.feature_importances_ })\n",
    "figt = figt.sort_values(by='Feature importance',ascending=False)\n",
    "plt.figure(figsize = (9,5))\n",
    "plt.title('Features Importance',fontsize=15)\n",
    "s = sns.barplot(x='Features',y='Feature importance',data=figt)\n",
    "s.set_xticklabels(s.get_xticklabels(), fontsize=12, rotation=90 )\n",
    "plt.show()   \n",
    "\n"
   ]
  },
  {
   "cell_type": "markdown",
   "metadata": {},
   "source": [
    "### Pasting : Bootstrap = 'False'\n",
    "\n",
    "##### This ensemble machine learning algorithm combines the result of multiple decision tress derived the bags (collection of random samples) . The sample used for each decision tree is randomly selected and are unavailable for subsequent bagging cycles. In other words the collection of sample in each bag is unique."
   ]
  },
  {
   "cell_type": "markdown",
   "metadata": {},
   "source": [
    "### a) Decision Tree Pasting Classifier"
   ]
  },
  {
   "cell_type": "markdown",
   "metadata": {},
   "source": [
    "##### We have already found best parameters for the base models while performing Bagging, Hence for the purpose of pasting we will simply combine the best parameters that are already found above with the only difference, Bootstrap ='False'"
   ]
  },
  {
   "cell_type": "code",
   "execution_count": 59,
   "metadata": {
    "scrolled": true
   },
   "outputs": [
    {
     "name": "stdout",
     "output_type": "stream",
     "text": [
      "Best parameters : Decision Tree grid search : {'max_depth': 4}\n"
     ]
    }
   ],
   "source": [
    "print(\"Best parameters : Decision Tree grid search : {}\".format(dtree_grid_search.best_params_))"
   ]
  },
  {
   "cell_type": "code",
   "execution_count": 60,
   "metadata": {
    "scrolled": false
   },
   "outputs": [
    {
     "name": "stdout",
     "output_type": "stream",
     "text": [
      "Best parameters : Decision Tree Pasting : {'max_samples': 0.5, 'n_estimators': 200}\n"
     ]
    }
   ],
   "source": [
    "print(\"Best parameters : Decision Tree Pasting : {}\".format(bag_grid_search.best_params_))"
   ]
  },
  {
   "cell_type": "markdown",
   "metadata": {},
   "source": [
    "#### Combining the best parameters of base model and pasting to create a new model. "
   ]
  },
  {
   "cell_type": "markdown",
   "metadata": {},
   "source": [
    "#### ."
   ]
  },
  {
   "cell_type": "code",
   "execution_count": 61,
   "metadata": {
    "scrolled": true
   },
   "outputs": [],
   "source": [
    "best_dtree = DecisionTreeClassifier(max_depth = 4, random_state=0)\n",
    "best_pasting = BaggingClassifier(best_dtree, bootstrap=False, n_estimators=200, max_samples=0.5, n_jobs=-1, random_state=0)\n",
    "\n",
    "best_pasting.fit(X_train, y_train)\n",
    "y_pred = best_pasting.predict(X_test)"
   ]
  },
  {
   "cell_type": "code",
   "execution_count": 62,
   "metadata": {
    "scrolled": true
   },
   "outputs": [
    {
     "name": "stdout",
     "output_type": "stream",
     "text": [
      "Train score: 0.826\n",
      "Test score: 0.829\n"
     ]
    }
   ],
   "source": [
    "print('Train score: %.3f'%best_pasting.score(X_train, y_train))\n",
    "print('Test score: %.3f'%best_pasting.score(X_test, y_test))"
   ]
  },
  {
   "cell_type": "code",
   "execution_count": 63,
   "metadata": {
    "scrolled": true
   },
   "outputs": [
    {
     "name": "stdout",
     "output_type": "stream",
     "text": [
      "              precision    recall  f1-score   support\n",
      "\n",
      "    Default        0.85      0.95      0.90      5950\n",
      "  No Default       0.66      0.35      0.46      1550\n",
      "\n",
      "    accuracy                           0.83      7500\n",
      "   macro avg       0.76      0.65      0.68      7500\n",
      "weighted avg       0.81      0.83      0.81      7500\n",
      "\n"
     ]
    }
   ],
   "source": [
    "print(classification_report(y_test, best_pasting.predict(X_test), target_names=[\"Default \", \"No Default\"]))"
   ]
  },
  {
   "cell_type": "code",
   "execution_count": 64,
   "metadata": {
    "scrolled": true
   },
   "outputs": [
    {
     "name": "stdout",
     "output_type": "stream",
     "text": [
      "[[5671  279]\n",
      " [1002  548]]\n"
     ]
    }
   ],
   "source": [
    "print(confusion_matrix(y_pred = y_pred, y_true = y_test))"
   ]
  },
  {
   "cell_type": "code",
   "execution_count": 65,
   "metadata": {
    "scrolled": true
   },
   "outputs": [
    {
     "data": {
      "image/png": "[encoded data removed]",
      "text/plain": [
       "<Figure size 432x288 with 1 Axes>"
      ]
     },
     "metadata": {
      "needs_background": "light"
     },
     "output_type": "display_data"
    }
   ],
   "source": [
    "import mglearn\n",
    "heatmap = mglearn.tools.heatmap(\n",
    "    confusion_matrix(y_pred = y_pred, y_true = y_test), xlabel = 'Predicted label',\n",
    "    ylabel='True label', xticklabels = ['No Default','Default'], yticklabels=['No Default','Default'], cmap = \"RdYlGn\", fmt=\"%d\")\n",
    "plt.title(\"Confusion matrix\")\n",
    "plt.gca().invert_yaxis()"
   ]
  },
  {
   "cell_type": "code",
   "execution_count": 66,
   "metadata": {
    "scrolled": false
   },
   "outputs": [
    {
     "name": "stdout",
     "output_type": "stream",
     "text": [
      "Precision score : 0.663\n"
     ]
    }
   ],
   "source": [
    "print('Precision score : {:.3f}'.format(precision_score(y_test, best_pasting.predict(X_test))))"
   ]
  },
  {
   "cell_type": "code",
   "execution_count": 67,
   "metadata": {
    "scrolled": true
   },
   "outputs": [
    {
     "name": "stdout",
     "output_type": "stream",
     "text": [
      "Recall score : 0.354 \n"
     ]
    }
   ],
   "source": [
    "print('Recall score : {:.3f} '.format(recall_score(y_test, best_pasting.predict(X_test))))"
   ]
  },
  {
   "cell_type": "code",
   "execution_count": 68,
   "metadata": {
    "scrolled": true
   },
   "outputs": [
    {
     "name": "stdout",
     "output_type": "stream",
     "text": [
      "f1 score : 0.461 \n"
     ]
    }
   ],
   "source": [
    "print('f1 score : {:.3f} '.format(f1_score(y_test, best_pasting.predict(X_test))))"
   ]
  },
  {
   "cell_type": "code",
   "execution_count": 69,
   "metadata": {
    "scrolled": true
   },
   "outputs": [
    {
     "name": "stdout",
     "output_type": "stream",
     "text": [
      "Accuracy : 0.829 \n"
     ]
    }
   ],
   "source": [
    "print('Accuracy : {:.3f} '.format(accuracy_score(y_test, best_pasting.predict(X_test))))"
   ]
  },
  {
   "cell_type": "markdown",
   "metadata": {},
   "source": [
    "### b) Random Forest Pasting Classifier\n"
   ]
  },
  {
   "cell_type": "code",
   "execution_count": 70,
   "metadata": {
    "scrolled": true
   },
   "outputs": [
    {
     "name": "stdout",
     "output_type": "stream",
     "text": [
      "Best parameters : Random Forest grid search :{'max_depth': 5, 'max_features': 0.5, 'max_samples': 0.5, 'n_estimators': 500}\n"
     ]
    }
   ],
   "source": [
    "print(\"Best parameters : Random Forest grid search :{}\".format(rf_grid_search.best_params_))"
   ]
  },
  {
   "cell_type": "markdown",
   "metadata": {},
   "source": [
    "#### Combining the best parameters of base model and pasting to create a new model"
   ]
  },
  {
   "cell_type": "code",
   "execution_count": 71,
   "metadata": {
    "scrolled": true
   },
   "outputs": [],
   "source": [
    "best_pasting_rf = RandomForestClassifier(bootstrap = False, max_depth = 5, max_features = 0.5,max_samples = 0.5, n_estimators = 500, random_state = 0)\n",
    "best_pasting_rf.fit(X_train, y_train)\n",
    "y_pred = best_pasting_rf.predict(X_test)"
   ]
  },
  {
   "cell_type": "code",
   "execution_count": 72,
   "metadata": {
    "scrolled": true
   },
   "outputs": [
    {
     "name": "stdout",
     "output_type": "stream",
     "text": [
      "Test score: 0.830\n",
      "Train score: 0.827\n"
     ]
    }
   ],
   "source": [
    "print('Test score: %.3f'%best_pasting_rf.score(X_test, y_test))\n",
    "print('Train score: %.3f'%best_pasting_rf.score(X_train, y_train))"
   ]
  },
  {
   "cell_type": "code",
   "execution_count": 73,
   "metadata": {
    "scrolled": true
   },
   "outputs": [
    {
     "name": "stdout",
     "output_type": "stream",
     "text": [
      "              precision    recall  f1-score   support\n",
      "\n",
      "    Default        0.85      0.96      0.90      5950\n",
      "  No Default       0.67      0.35      0.46      1550\n",
      "\n",
      "    accuracy                           0.83      7500\n",
      "   macro avg       0.76      0.65      0.68      7500\n",
      "weighted avg       0.81      0.83      0.81      7500\n",
      "\n"
     ]
    }
   ],
   "source": [
    "print(classification_report(y_test, y_pred=best_pasting_rf.predict(X_test), target_names=[\"Default \", \"No Default\"]))"
   ]
  },
  {
   "cell_type": "code",
   "execution_count": 74,
   "metadata": {
    "scrolled": true
   },
   "outputs": [
    {
     "data": {
      "image/png": "[encoded data removed]",
      "text/plain": [
       "<Figure size 432x288 with 1 Axes>"
      ]
     },
     "metadata": {
      "needs_background": "light"
     },
     "output_type": "display_data"
    }
   ],
   "source": [
    "import mglearn\n",
    "heatmap = mglearn.tools.heatmap(\n",
    "    confusion_matrix(y_pred = best_pasting_rf.predict(X_test), y_true = y_test), xlabel = 'Predicted label',\n",
    "    ylabel='True label', xticklabels = ['No Default','Default'], yticklabels=['No Default','Default'], cmap = \"RdYlGn\", fmt=\"%d\")\n",
    "plt.title(\"Confusion matrix\")\n",
    "plt.gca().invert_yaxis()"
   ]
  },
  {
   "cell_type": "code",
   "execution_count": 75,
   "metadata": {
    "scrolled": true
   },
   "outputs": [
    {
     "name": "stdout",
     "output_type": "stream",
     "text": [
      "Precision score : 0.670\n"
     ]
    }
   ],
   "source": [
    "print('Precision score : {:.3f}'.format(precision_score(y_test, best_pasting_rf.predict(X_test))))"
   ]
  },
  {
   "cell_type": "code",
   "execution_count": 76,
   "metadata": {
    "scrolled": true
   },
   "outputs": [
    {
     "name": "stdout",
     "output_type": "stream",
     "text": [
      "Recall score : 0.350 \n"
     ]
    }
   ],
   "source": [
    "print('Recall score : {:.3f} '.format(recall_score(y_test, best_pasting_rf.predict(X_test))))"
   ]
  },
  {
   "cell_type": "code",
   "execution_count": 77,
   "metadata": {
    "scrolled": true
   },
   "outputs": [
    {
     "name": "stdout",
     "output_type": "stream",
     "text": [
      "f1 score : 0.460 \n"
     ]
    }
   ],
   "source": [
    "print('f1 score : {:.3f} '.format(f1_score(y_test, best_pasting_rf.predict(X_test))))"
   ]
  },
  {
   "cell_type": "code",
   "execution_count": 78,
   "metadata": {
    "scrolled": true
   },
   "outputs": [
    {
     "name": "stdout",
     "output_type": "stream",
     "text": [
      "Accuracy : 0.830 \n"
     ]
    }
   ],
   "source": [
    "print('Accuracy : {:.3f} '.format(accuracy_score(y_test, best_pasting_rf.predict(X_test))))"
   ]
  },
  {
   "cell_type": "code",
   "execution_count": 79,
   "metadata": {
    "scrolled": false
   },
   "outputs": [
    {
     "data": {
      "image/png": "[encoded data removed]",
      "text/plain": [
       "<Figure size 648x360 with 1 Axes>"
      ]
     },
     "metadata": {
      "needs_background": "light"
     },
     "output_type": "display_data"
    }
   ],
   "source": [
    "figt = pd.DataFrame({'Features': X.columns, 'Feature importance': best_pasting_rf.feature_importances_ })\n",
    "figt = figt.sort_values(by='Feature importance',ascending=False)\n",
    "plt.figure(figsize = (9,5))\n",
    "plt.title('Features Importance',fontsize=15)\n",
    "s = sns.barplot(x='Features',y='Feature importance',data=figt)\n",
    "s.set_xticklabels(s.get_xticklabels(), fontsize=12, rotation=90 )\n",
    "plt.show()   \n"
   ]
  },
  {
   "cell_type": "markdown",
   "metadata": {},
   "source": [
    "### 3. ADABOOSTING\n",
    "\n",
    "##### The goal in AdaBoosting is to change the cost function in every iteration by giving importance to those function which haven't been predicted correctly\n"
   ]
  },
  {
   "cell_type": "markdown",
   "metadata": {},
   "source": [
    "### a) Logistic Regression AdaBoost"
   ]
  },
  {
   "cell_type": "code",
   "execution_count": 80,
   "metadata": {
    "scrolled": false
   },
   "outputs": [
    {
     "name": "stdout",
     "output_type": "stream",
     "text": [
      "Fitting 5 folds for each of 1788 candidates, totalling 8940 fits\n"
     ]
    },
    {
     "name": "stderr",
     "output_type": "stream",
     "text": [
      "[Parallel(n_jobs=-1)]: Using backend LokyBackend with 8 concurrent workers.\n",
      "[Parallel(n_jobs=-1)]: Done  34 tasks      | elapsed:    0.8s\n",
      "[Parallel(n_jobs=-1)]: Done 1032 tasks      | elapsed:   12.0s\n",
      "[Parallel(n_jobs=-1)]: Done 2178 tasks      | elapsed:   26.9s\n",
      "[Parallel(n_jobs=-1)]: Done 2528 tasks      | elapsed:   34.6s\n",
      "[Parallel(n_jobs=-1)]: Done 2978 tasks      | elapsed:   44.4s\n",
      "[Parallel(n_jobs=-1)]: Done 3984 tasks      | elapsed:  1.1min\n",
      "[Parallel(n_jobs=-1)]: Done 5090 tasks      | elapsed:  1.6min\n",
      "[Parallel(n_jobs=-1)]: Done 5840 tasks      | elapsed:  2.1min\n",
      "[Parallel(n_jobs=-1)]: Done 7146 tasks      | elapsed:  2.7min\n",
      "[Parallel(n_jobs=-1)]: Done 8552 tasks      | elapsed:  3.4min\n",
      "[Parallel(n_jobs=-1)]: Done 8940 out of 8940 | elapsed:  3.8min finished\n"
     ]
    },
    {
     "data": {
      "text/plain": [
       "GridSearchCV(cv=5, estimator=LogisticRegression(random_state=0), n_jobs=-1,\n",
       "             param_grid={'C': [0.01, 0.1, 1, 10, 100, 1000],\n",
       "                         'max_iter': range(1, 150), 'penalty': ['l1', 'l2']},\n",
       "             return_train_score=True, verbose=1)"
      ]
     },
     "execution_count": 80,
     "metadata": {},
     "output_type": "execute_result"
    }
   ],
   "source": [
    "param_grid_logit = { 'max_iter' : range(1,150), 'penalty' : ['l1','l2'], 'C' : [0.01, 0.1, 1, 10, 100, 1000]}\n",
    "logit_class_CV = GridSearchCV(LogisticRegression(random_state=0), param_grid = param_grid_logit, cv = 5, verbose = 1, n_jobs = -1, return_train_score = True)\n",
    "logit_class_CV.fit(X_train, y_train)"
   ]
  },
  {
   "cell_type": "code",
   "execution_count": 81,
   "metadata": {
    "scrolled": true
   },
   "outputs": [
    {
     "name": "stdout",
     "output_type": "stream",
     "text": [
      "Best parameters: Logistic Regression {'C': 1000, 'max_iter': 90, 'penalty': 'l2'}\n"
     ]
    }
   ],
   "source": [
    "print(\"Best parameters: Logistic Regression {}\".format(logit_class_CV.best_params_))"
   ]
  },
  {
   "cell_type": "code",
   "execution_count": 82,
   "metadata": {
    "scrolled": true
   },
   "outputs": [
    {
     "name": "stdout",
     "output_type": "stream",
     "text": [
      "Fitting 7 folds for each of 16 candidates, totalling 112 fits\n"
     ]
    },
    {
     "name": "stderr",
     "output_type": "stream",
     "text": [
      "[Parallel(n_jobs=1)]: Using backend SequentialBackend with 1 concurrent workers.\n",
      "[Parallel(n_jobs=1)]: Done 112 out of 112 | elapsed: 13.5min finished\n"
     ]
    },
    {
     "data": {
      "text/plain": [
       "GridSearchCV(cv=7,\n",
       "             estimator=AdaBoostClassifier(base_estimator=LogisticRegression(C=1000,\n",
       "                                                                            max_iter=90),\n",
       "                                          random_state=0),\n",
       "             param_grid={'learning_rate': [0.02, 0.05, 0.5, 1],\n",
       "                         'n_estimators': [200, 250, 500, 600]},\n",
       "             return_train_score=True, verbose=True)"
      ]
     },
     "execution_count": 82,
     "metadata": {},
     "output_type": "execute_result"
    }
   ],
   "source": [
    "from sklearn.ensemble import AdaBoostClassifier\n",
    "param_grid = {'n_estimators': [200,250,500,600], 'learning_rate': [.02, .05, 0.5, 1]}\n",
    "\n",
    "log_ada_gs = GridSearchCV(AdaBoostClassifier(LogisticRegression(C=1000, max_iter=90, penalty='l2'),algorithm=\"SAMME.R\",\n",
    "                                             random_state = 0), param_grid, cv=7, return_train_score=True, verbose=True)\n",
    "log_ada_gs.fit(X_train, y_train)"
   ]
  },
  {
   "cell_type": "code",
   "execution_count": 83,
   "metadata": {
    "scrolled": false
   },
   "outputs": [
    {
     "name": "stdout",
     "output_type": "stream",
     "text": [
      "Best parameters: Logistic Regression AdaBoost {'learning_rate': 1, 'n_estimators': 200}\n"
     ]
    }
   ],
   "source": [
    "print(\"Best parameters: Logistic Regression AdaBoost {}\".format(log_ada_gs.best_params_))"
   ]
  },
  {
   "cell_type": "markdown",
   "metadata": {},
   "source": [
    "#### Combining Best Parameters for AdaBoosting "
   ]
  },
  {
   "cell_type": "code",
   "execution_count": 84,
   "metadata": {
    "scrolled": true
   },
   "outputs": [],
   "source": [
    "best_logit_ada = AdaBoostClassifier(LogisticRegression(random_state=0), random_state=0, n_estimators= 200, \n",
    "                                    algorithm=\"SAMME.R\", learning_rate=1)\n",
    "best_logit_ada.fit(X_train, y_train)\n",
    "y_pred = best_logit_ada.predict(X_test)"
   ]
  },
  {
   "cell_type": "code",
   "execution_count": 85,
   "metadata": {
    "scrolled": true
   },
   "outputs": [
    {
     "name": "stdout",
     "output_type": "stream",
     "text": [
      "Accuracy : 0.801\n"
     ]
    }
   ],
   "source": [
    "print(\"Accuracy :\",accuracy_score(y_test, y_pred).round(3))"
   ]
  },
  {
   "cell_type": "code",
   "execution_count": 86,
   "metadata": {
    "scrolled": true
   },
   "outputs": [
    {
     "name": "stdout",
     "output_type": "stream",
     "text": [
      "              precision    recall  f1-score   support\n",
      "\n",
      "    Default        0.80      0.99      0.89      5950\n",
      "  No Default       0.72      0.06      0.12      1550\n",
      "\n",
      "    accuracy                           0.80      7500\n",
      "   macro avg       0.76      0.53      0.50      7500\n",
      "weighted avg       0.79      0.80      0.73      7500\n",
      "\n"
     ]
    }
   ],
   "source": [
    "print(classification_report(y_test, y_pred= best_logit_ada.predict(X_test), target_names=[\"Default \", \"No Default\"]))"
   ]
  },
  {
   "cell_type": "code",
   "execution_count": 87,
   "metadata": {
    "scrolled": true
   },
   "outputs": [
    {
     "name": "stdout",
     "output_type": "stream",
     "text": [
      "[[5912   38]\n",
      " [1452   98]]\n"
     ]
    }
   ],
   "source": [
    "print(confusion_matrix(y_pred = y_pred, y_true = y_test))"
   ]
  },
  {
   "cell_type": "code",
   "execution_count": 88,
   "metadata": {
    "scrolled": true
   },
   "outputs": [
    {
     "data": {
      "image/png": "[encoded data removed]",
      "text/plain": [
       "<Figure size 432x288 with 1 Axes>"
      ]
     },
     "metadata": {
      "needs_background": "light"
     },
     "output_type": "display_data"
    }
   ],
   "source": [
    "heatmap = mglearn.tools.heatmap(\n",
    "    confusion_matrix(y_pred = y_pred, y_true = y_test), xlabel = 'Predicted label',\n",
    "    ylabel='True label', xticklabels = ['No Default','Default'], yticklabels=['No Default','Default'], cmap = \"RdYlGn\", fmt=\"%d\")\n",
    "plt.title(\"Confusion matrix\")\n",
    "plt.gca().invert_yaxis()"
   ]
  },
  {
   "cell_type": "markdown",
   "metadata": {},
   "source": [
    "### b) Decision Tree AdaBoost"
   ]
  },
  {
   "cell_type": "code",
   "execution_count": 89,
   "metadata": {
    "scrolled": true
   },
   "outputs": [
    {
     "name": "stdout",
     "output_type": "stream",
     "text": [
      "Fitting 7 folds for each of 864 candidates, totalling 6048 fits\n"
     ]
    },
    {
     "name": "stderr",
     "output_type": "stream",
     "text": [
      "[Parallel(n_jobs=-1)]: Using backend LokyBackend with 8 concurrent workers.\n",
      "[Parallel(n_jobs=-1)]: Done  34 tasks      | elapsed:    4.2s\n",
      "[Parallel(n_jobs=-1)]: Done 312 tasks      | elapsed:    7.1s\n",
      "[Parallel(n_jobs=-1)]: Done 812 tasks      | elapsed:   16.1s\n",
      "[Parallel(n_jobs=-1)]: Done 1512 tasks      | elapsed:   35.2s\n",
      "[Parallel(n_jobs=-1)]: Done 2412 tasks      | elapsed:  1.2min\n",
      "[Parallel(n_jobs=-1)]: Done 3512 tasks      | elapsed:  1.8min\n",
      "[Parallel(n_jobs=-1)]: Done 4812 tasks      | elapsed:  2.5min\n",
      "[Parallel(n_jobs=-1)]: Done 5800 tasks      | elapsed:  3.5min\n",
      "[Parallel(n_jobs=-1)]: Done 6048 out of 6048 | elapsed:  3.8min finished\n"
     ]
    },
    {
     "data": {
      "text/plain": [
       "GridSearchCV(cv=7, estimator=DecisionTreeClassifier(random_state=0), n_jobs=-1,\n",
       "             param_grid={'criterion': ['gini', 'entropy'],\n",
       "                         'max_depth': range(1, 10),\n",
       "                         'min_samples_leaf': range(2, 50)},\n",
       "             verbose=True)"
      ]
     },
     "execution_count": 89,
     "metadata": {},
     "output_type": "execute_result"
    }
   ],
   "source": [
    "param_grid_dtree = {'max_depth': range(1,10),'criterion':['gini','entropy'],'min_samples_leaf' : range(2,50)}\n",
    "GS_results_dtrees = GridSearchCV(DecisionTreeClassifier(random_state=0), cv = 7, param_grid = param_grid_dtree , verbose = True, n_jobs = -1)\n",
    "GS_results_dtrees.fit(X_train, y_train)"
   ]
  },
  {
   "cell_type": "code",
   "execution_count": 90,
   "metadata": {
    "scrolled": true
   },
   "outputs": [
    {
     "name": "stdout",
     "output_type": "stream",
     "text": [
      "Best parameters: Decision Tree Adaboost {'criterion': 'entropy', 'max_depth': 4, 'min_samples_leaf': 48}\n"
     ]
    }
   ],
   "source": [
    "print(\"Best parameters: Decision Tree Adaboost {}\".format(GS_results_dtrees.best_params_))"
   ]
  },
  {
   "cell_type": "code",
   "execution_count": 91,
   "metadata": {
    "scrolled": true
   },
   "outputs": [
    {
     "name": "stdout",
     "output_type": "stream",
     "text": [
      "Fitting 7 folds for each of 16 candidates, totalling 112 fits\n"
     ]
    },
    {
     "name": "stderr",
     "output_type": "stream",
     "text": [
      "[Parallel(n_jobs=1)]: Using backend SequentialBackend with 1 concurrent workers.\n",
      "[Parallel(n_jobs=1)]: Done 112 out of 112 | elapsed: 46.7min finished\n"
     ]
    },
    {
     "data": {
      "text/plain": [
       "GridSearchCV(cv=7,\n",
       "             estimator=AdaBoostClassifier(base_estimator=DecisionTreeClassifier(criterion='entropy',\n",
       "                                                                                max_depth=4,\n",
       "                                                                                min_samples_leaf=48),\n",
       "                                          random_state=0),\n",
       "             param_grid={'learning_rate': [0.02, 0.05, 0.5, 1],\n",
       "                         'n_estimators': [100, 150, 250, 400]},\n",
       "             return_train_score=True, verbose=True)"
      ]
     },
     "execution_count": 91,
     "metadata": {},
     "output_type": "execute_result"
    }
   ],
   "source": [
    "param_grid = {'n_estimators': [100,150,250,400], 'learning_rate': [.02, .05, 0.5, 1]}\n",
    "dtree_ada_gs = GridSearchCV(AdaBoostClassifier(DecisionTreeClassifier(criterion ='entropy',max_depth=4, min_samples_leaf=48),\n",
    "                                               algorithm=\"SAMME.R\",random_state = 0), \n",
    "                            param_grid, cv=7, return_train_score=True, verbose=True)\n",
    "dtree_ada_gs.fit(X_train, y_train)"
   ]
  },
  {
   "cell_type": "code",
   "execution_count": 92,
   "metadata": {
    "scrolled": true
   },
   "outputs": [
    {
     "name": "stdout",
     "output_type": "stream",
     "text": [
      "Best parameters: Decision Tree AdaBoost {'learning_rate': 0.02, 'n_estimators': 250}\n"
     ]
    }
   ],
   "source": [
    "print(\"Best parameters: Decision Tree AdaBoost {}\".format(dtree_ada_gs.best_params_))"
   ]
  },
  {
   "cell_type": "markdown",
   "metadata": {},
   "source": [
    "#### Combining Best Parameters for AdaBoosting "
   ]
  },
  {
   "cell_type": "code",
   "execution_count": 93,
   "metadata": {
    "scrolled": true
   },
   "outputs": [],
   "source": [
    "best_dtree_ada = AdaBoostClassifier(DecisionTreeClassifier(criterion ='entropy',max_depth=4, min_samples_leaf=48),\n",
    "                                    random_state=0, n_estimators=250, algorithm=\"SAMME.R\", learning_rate=0.02)\n",
    "best_dtree_ada.fit(X_train, y_train)\n",
    "y_pred = best_dtree_ada.predict(X_test)"
   ]
  },
  {
   "cell_type": "code",
   "execution_count": 94,
   "metadata": {
    "scrolled": false
   },
   "outputs": [
    {
     "name": "stdout",
     "output_type": "stream",
     "text": [
      "Accuracy : 0.83\n"
     ]
    }
   ],
   "source": [
    "print(\"Accuracy :\",accuracy_score(y_test, y_pred).round(3))"
   ]
  },
  {
   "cell_type": "code",
   "execution_count": 95,
   "metadata": {
    "scrolled": true
   },
   "outputs": [
    {
     "name": "stdout",
     "output_type": "stream",
     "text": [
      "              precision    recall  f1-score   support\n",
      "\n",
      "    Default        0.85      0.96      0.90      5950\n",
      "  No Default       0.67      0.35      0.46      1550\n",
      "\n",
      "    accuracy                           0.83      7500\n",
      "   macro avg       0.76      0.65      0.68      7500\n",
      "weighted avg       0.81      0.83      0.81      7500\n",
      "\n"
     ]
    }
   ],
   "source": [
    "print(classification_report(y_test, y_pred= best_dtree_ada.predict(X_test), target_names=[\"Default \", \"No Default\"]))"
   ]
  },
  {
   "cell_type": "code",
   "execution_count": 96,
   "metadata": {
    "scrolled": true
   },
   "outputs": [
    {
     "name": "stdout",
     "output_type": "stream",
     "text": [
      "[[5685  265]\n",
      " [1013  537]]\n"
     ]
    }
   ],
   "source": [
    "print(confusion_matrix(y_pred = y_pred, y_true = y_test))"
   ]
  },
  {
   "cell_type": "code",
   "execution_count": 97,
   "metadata": {
    "scrolled": true
   },
   "outputs": [
    {
     "data": {
      "image/png": "[encoded data removed]",
      "text/plain": [
       "<Figure size 432x288 with 1 Axes>"
      ]
     },
     "metadata": {
      "needs_background": "light"
     },
     "output_type": "display_data"
    }
   ],
   "source": [
    "heatmap = mglearn.tools.heatmap(\n",
    "    confusion_matrix(y_pred = y_pred, y_true = y_test), xlabel = 'Predicted label',\n",
    "    ylabel='True label', xticklabels = ['No Default','Default'], yticklabels=['No Default','Default'], cmap = \"RdYlGn\", fmt=\"%d\")\n",
    "plt.title(\"Confusion matrix\")\n",
    "plt.gca().invert_yaxis()"
   ]
  },
  {
   "cell_type": "markdown",
   "metadata": {},
   "source": [
    "### 4. Gradient Boosting "
   ]
  },
  {
   "cell_type": "code",
   "execution_count": 98,
   "metadata": {
    "scrolled": false
   },
   "outputs": [
    {
     "name": "stdout",
     "output_type": "stream",
     "text": [
      "Fitting 10 folds for each of 100 candidates, totalling 1000 fits\n"
     ]
    },
    {
     "name": "stderr",
     "output_type": "stream",
     "text": [
      "[Parallel(n_jobs=-1)]: Using backend LokyBackend with 8 concurrent workers.\n",
      "[Parallel(n_jobs=-1)]: Done  34 tasks      | elapsed:   29.0s\n",
      "[Parallel(n_jobs=-1)]: Done 184 tasks      | elapsed:  5.3min\n",
      "[Parallel(n_jobs=-1)]: Done 434 tasks      | elapsed: 13.5min\n",
      "[Parallel(n_jobs=-1)]: Done 784 tasks      | elapsed: 25.4min\n",
      "[Parallel(n_jobs=-1)]: Done 1000 out of 1000 | elapsed: 33.3min finished\n"
     ]
    },
    {
     "data": {
      "text/plain": [
       "GridSearchCV(cv=10, estimator=GradientBoostingClassifier(random_state=0),\n",
       "             n_jobs=-1,\n",
       "             param_grid={'learning_rate': [0.05, 0.1, 0.2, 0.5, 1],\n",
       "                         'max_depth': array([1, 2, 3, 4, 5]),\n",
       "                         'n_estimators': [25, 50, 100, 200]},\n",
       "             return_train_score=True, verbose=True)"
      ]
     },
     "execution_count": 98,
     "metadata": {},
     "output_type": "execute_result"
    }
   ],
   "source": [
    "from sklearn.ensemble import GradientBoostingClassifier\n",
    "param_grid = {'n_estimators': [25,50,100,200],'learning_rate': [0.05,0.1,0.2,0.5,1], 'max_depth': np.arange(1,6)}\n",
    "gb_grid_search = GridSearchCV(GradientBoostingClassifier(random_state = 0), param_grid,\n",
    "                              cv=10, return_train_score=True, n_jobs=-1, verbose=True)\n",
    "gb_grid_search.fit(X_train, y_train)"
   ]
  },
  {
   "cell_type": "code",
   "execution_count": 99,
   "metadata": {
    "scrolled": false
   },
   "outputs": [
    {
     "name": "stdout",
     "output_type": "stream",
     "text": [
      "Best parameters Gradient Boosting: {'learning_rate': 0.1, 'max_depth': 4, 'n_estimators': 50}\n"
     ]
    }
   ],
   "source": [
    "print(\"Best parameters Gradient Boosting: {}\".format(gb_grid_search.best_params_))"
   ]
  },
  {
   "cell_type": "code",
   "execution_count": 100,
   "metadata": {
    "scrolled": true
   },
   "outputs": [],
   "source": [
    "best_gbrt = GradientBoostingClassifier(random_state=0, n_estimators=50, learning_rate=0.1, max_depth = 4)\n",
    "best_gbrt.fit(X_train, y_train)\n",
    "y_pred = best_gbrt.predict(X_test)"
   ]
  },
  {
   "cell_type": "code",
   "execution_count": 101,
   "metadata": {
    "scrolled": true
   },
   "outputs": [
    {
     "name": "stdout",
     "output_type": "stream",
     "text": [
      "Accuracy : 0.831\n"
     ]
    }
   ],
   "source": [
    "print(\"Accuracy :\",accuracy_score(y_test, y_pred).round(3))"
   ]
  },
  {
   "cell_type": "code",
   "execution_count": 102,
   "metadata": {
    "scrolled": true
   },
   "outputs": [
    {
     "name": "stdout",
     "output_type": "stream",
     "text": [
      "              precision    recall  f1-score   support\n",
      "\n",
      "    Default        0.85      0.95      0.90      5950\n",
      "  No Default       0.67      0.36      0.47      1550\n",
      "\n",
      "    accuracy                           0.83      7500\n",
      "   macro avg       0.76      0.66      0.68      7500\n",
      "weighted avg       0.81      0.83      0.81      7500\n",
      "\n"
     ]
    }
   ],
   "source": [
    "print(classification_report(y_test, y_pred= best_gbrt.predict(X_test), target_names=[\"Default \", \"No Default\"]))"
   ]
  },
  {
   "cell_type": "code",
   "execution_count": 103,
   "metadata": {
    "scrolled": true
   },
   "outputs": [
    {
     "name": "stdout",
     "output_type": "stream",
     "text": [
      "[[5678  272]\n",
      " [ 996  554]]\n"
     ]
    }
   ],
   "source": [
    "print(confusion_matrix(y_pred = y_pred, y_true = y_test))"
   ]
  },
  {
   "cell_type": "code",
   "execution_count": 104,
   "metadata": {
    "scrolled": true
   },
   "outputs": [
    {
     "data": {
      "image/png": "[encoded data removed]",
      "text/plain": [
       "<Figure size 432x288 with 1 Axes>"
      ]
     },
     "metadata": {
      "needs_background": "light"
     },
     "output_type": "display_data"
    }
   ],
   "source": [
    "heatmap = mglearn.tools.heatmap(\n",
    "    confusion_matrix(y_pred = y_pred, y_true = y_test), xlabel = 'Predicted label',\n",
    "    ylabel='True label', xticklabels = ['No Default','Default'], yticklabels=['No Default','Default'], cmap = \"RdYlGn\", fmt=\"%d\")\n",
    "plt.title(\"Confusion matrix\")\n",
    "plt.gca().invert_yaxis()"
   ]
  },
  {
   "cell_type": "markdown",
   "metadata": {},
   "source": [
    "<h2> PCA </h2>"
   ]
  },
  {
   "cell_type": "markdown",
   "metadata": {},
   "source": [
    "### Train Test Split"
   ]
  },
  {
   "cell_type": "code",
   "execution_count": 105,
   "metadata": {
    "scrolled": true
   },
   "outputs": [],
   "source": [
    "X = dcc.drop('Default_Payment',axis =1)\n",
    "y = dcc['Default_Payment']\n",
    "X_train_org, X_test_org, y_train, y_test = train_test_split(X, y, random_state = 0)"
   ]
  },
  {
   "cell_type": "code",
   "execution_count": 106,
   "metadata": {
    "scrolled": true
   },
   "outputs": [],
   "source": [
    "scaler = MinMaxScaler()\n",
    "X_train = scaler.fit_transform(X_train_org)\n",
    "X_test = scaler.transform(X_test_org)"
   ]
  },
  {
   "cell_type": "code",
   "execution_count": 107,
   "metadata": {
    "scrolled": false
   },
   "outputs": [
    {
     "data": {
      "text/plain": [
       "(22500, 23)"
      ]
     },
     "execution_count": 107,
     "metadata": {},
     "output_type": "execute_result"
    }
   ],
   "source": [
    "X_train.shape"
   ]
  },
  {
   "cell_type": "markdown",
   "metadata": {},
   "source": [
    "#### With an Explained Variance ratio of 95% let's perform Principal Component analyisis to reduce the dimensionality"
   ]
  },
  {
   "cell_type": "code",
   "execution_count": 108,
   "metadata": {
    "scrolled": true
   },
   "outputs": [],
   "source": [
    "from sklearn.decomposition import PCA\n",
    "pca_classification = PCA(n_components = 0.95, random_state = 0)\n",
    "X_train_pca = pca_classification.fit_transform(X_train)\n",
    "X_test_pca = pca_classification.transform(X_test)"
   ]
  },
  {
   "cell_type": "markdown",
   "metadata": {},
   "source": [
    "#### Let's check how much of dimensionality is reduced using Explained Variance ratio of 95%."
   ]
  },
  {
   "cell_type": "code",
   "execution_count": 109,
   "metadata": {
    "scrolled": true
   },
   "outputs": [
    {
     "data": {
      "text/plain": [
       "(22500, 8)"
      ]
     },
     "execution_count": 109,
     "metadata": {},
     "output_type": "execute_result"
    }
   ],
   "source": [
    "X_train_pca.shape"
   ]
  },
  {
   "cell_type": "markdown",
   "metadata": {},
   "source": [
    "#### As we can see that total 15 columns were dropped as a part of dimensionality reduction\n"
   ]
  },
  {
   "cell_type": "code",
   "execution_count": 110,
   "metadata": {
    "scrolled": false
   },
   "outputs": [
    {
     "data": {
      "text/plain": [
       "8"
      ]
     },
     "execution_count": 110,
     "metadata": {},
     "output_type": "execute_result"
    }
   ],
   "source": [
    "pca_classification.n_components_"
   ]
  },
  {
   "cell_type": "markdown",
   "metadata": {},
   "source": [
    "<h2> 1. k-nearest neighbors (KNN) - PCA <h2>"
   ]
  },
  {
   "cell_type": "markdown",
   "metadata": {},
   "source": [
    "#### Finding best parameters for the model using grid search"
   ]
  },
  {
   "cell_type": "code",
   "execution_count": 111,
   "metadata": {
    "scrolled": false
   },
   "outputs": [
    {
     "name": "stdout",
     "output_type": "stream",
     "text": [
      "Fitting 7 folds for each of 76 candidates, totalling 532 fits\n"
     ]
    },
    {
     "name": "stderr",
     "output_type": "stream",
     "text": [
      "[Parallel(n_jobs=-1)]: Using backend LokyBackend with 8 concurrent workers.\n",
      "[Parallel(n_jobs=-1)]: Done  34 tasks      | elapsed:    4.8s\n",
      "[Parallel(n_jobs=-1)]: Done 184 tasks      | elapsed:   12.5s\n",
      "[Parallel(n_jobs=-1)]: Done 434 tasks      | elapsed:   27.9s\n",
      "[Parallel(n_jobs=-1)]: Done 532 out of 532 | elapsed:   35.6s finished\n"
     ]
    },
    {
     "data": {
      "text/plain": [
       "GridSearchCV(cv=7, estimator=KNeighborsClassifier(), n_jobs=-1,\n",
       "             param_grid={'metric': ['euclidean', 'manhattan'],\n",
       "                         'n_neighbors': range(1, 20),\n",
       "                         'weights': ['uniform', 'distance']},\n",
       "             verbose=1)"
      ]
     },
     "execution_count": 111,
     "metadata": {},
     "output_type": "execute_result"
    }
   ],
   "source": [
    "gs_knn_para = {'n_neighbors':range(1,20),'weights': ['uniform','distance'],\n",
    "            'metric': ['euclidean','manhattan']}\n",
    "\n",
    "gs_knn = GridSearchCV(KNeighborsClassifier(), gs_knn_para, verbose = 1, cv = 7, n_jobs = -1)\n",
    "gs_knn.fit(X_train_pca, y_train)"
   ]
  },
  {
   "cell_type": "code",
   "execution_count": 112,
   "metadata": {
    "scrolled": true
   },
   "outputs": [
    {
     "data": {
      "text/plain": [
       "0.8067113758997345"
      ]
     },
     "execution_count": 112,
     "metadata": {},
     "output_type": "execute_result"
    }
   ],
   "source": [
    "gs_knn.best_score_"
   ]
  },
  {
   "cell_type": "code",
   "execution_count": 113,
   "metadata": {
    "scrolled": false
   },
   "outputs": [
    {
     "name": "stdout",
     "output_type": "stream",
     "text": [
      "KNN grid search Best Parameters {'metric': 'manhattan', 'n_neighbors': 13, 'weights': 'uniform'}\n"
     ]
    }
   ],
   "source": [
    "print(\"KNN grid search Best Parameters {}\".format(gs_knn.best_params_))"
   ]
  },
  {
   "cell_type": "markdown",
   "metadata": {},
   "source": [
    "#### Applying best parameters  'metric': 'manhattan', 'n_neighbors': 13, 'weights': 'uniform' obtained using grid search"
   ]
  },
  {
   "cell_type": "code",
   "execution_count": 114,
   "metadata": {
    "scrolled": false
   },
   "outputs": [],
   "source": [
    "knn_pca = KNeighborsClassifier(metric ='manhattan', n_neighbors=13, weights= 'uniform')\n",
    "knn_pca.fit(X_train_pca, y_train)\n",
    "y_pred = knn_pca.predict(X_test_pca)"
   ]
  },
  {
   "cell_type": "code",
   "execution_count": 115,
   "metadata": {
    "scrolled": true
   },
   "outputs": [
    {
     "name": "stdout",
     "output_type": "stream",
     "text": [
      "Training score: 0.823\n",
      "Testing score: 0.808\n"
     ]
    }
   ],
   "source": [
    "print('Training score: {:.3f}'.format(knn_pca.score(X_train_pca,y_train)))\n",
    "print('Testing score: {:.3f}'.format(knn_pca.score(X_test_pca,y_test)))"
   ]
  },
  {
   "cell_type": "code",
   "execution_count": 116,
   "metadata": {
    "scrolled": false
   },
   "outputs": [
    {
     "name": "stdout",
     "output_type": "stream",
     "text": [
      "              precision    recall  f1-score   support\n",
      "\n",
      "         0.0       0.83      0.95      0.89      5950\n",
      "         1.0       0.57      0.27      0.37      1550\n",
      "\n",
      "    accuracy                           0.81      7500\n",
      "   macro avg       0.70      0.61      0.63      7500\n",
      "weighted avg       0.78      0.81      0.78      7500\n",
      "\n"
     ]
    }
   ],
   "source": [
    "print(classification_report(y_pred = y_pred, y_true = y_test))"
   ]
  },
  {
   "cell_type": "code",
   "execution_count": 117,
   "metadata": {
    "scrolled": false
   },
   "outputs": [
    {
     "name": "stdout",
     "output_type": "stream",
     "text": [
      "[[5643  307]\n",
      " [1135  415]]\n"
     ]
    }
   ],
   "source": [
    "print(confusion_matrix(y_pred = y_pred, y_true = y_test))"
   ]
  },
  {
   "cell_type": "code",
   "execution_count": 118,
   "metadata": {
    "scrolled": true
   },
   "outputs": [
    {
     "data": {
      "image/png": "[encoded data removed]",
      "text/plain": [
       "<Figure size 432x288 with 1 Axes>"
      ]
     },
     "metadata": {
      "needs_background": "light"
     },
     "output_type": "display_data"
    }
   ],
   "source": [
    "import mglearn\n",
    "heatmap = mglearn.tools.heatmap(\n",
    "    confusion_matrix(y_pred = y_pred, y_true = y_test), xlabel = 'Predicted label',\n",
    "    ylabel='True label', xticklabels = ['No Default','Default'], yticklabels=['No Default','Default'], cmap = \"RdYlGn\", fmt=\"%d\")\n",
    "plt.title(\"Confusion matrix (KNN)\")\n",
    "plt.gca().invert_yaxis()"
   ]
  },
  {
   "cell_type": "code",
   "execution_count": 119,
   "metadata": {
    "scrolled": false
   },
   "outputs": [
    {
     "name": "stdout",
     "output_type": "stream",
     "text": [
      "KNN-PCA f1-score : 0.365 \n"
     ]
    }
   ],
   "source": [
    "print('KNN-PCA f1-score : {:.3f} '.format(f1_score(y_test,knn_pca.predict(X_test_pca))))\n"
   ]
  },
  {
   "cell_type": "code",
   "execution_count": 120,
   "metadata": {
    "scrolled": true
   },
   "outputs": [
    {
     "name": "stdout",
     "output_type": "stream",
     "text": [
      "KNN-PCA Accuracy : 0.808 \n"
     ]
    }
   ],
   "source": [
    "print('KNN-PCA Accuracy : {:.3f} '.format(accuracy_score(y_test, knn_pca.predict(X_test_pca))))"
   ]
  },
  {
   "cell_type": "markdown",
   "metadata": {},
   "source": [
    "<h2> 2. Logistic Regression - PCA <h2>"
   ]
  },
  {
   "cell_type": "markdown",
   "metadata": {},
   "source": [
    "#### Finding best parameters for the model using grid search"
   ]
  },
  {
   "cell_type": "code",
   "execution_count": 121,
   "metadata": {
    "scrolled": true
   },
   "outputs": [
    {
     "name": "stdout",
     "output_type": "stream",
     "text": [
      "Fitting 5 folds for each of 2786 candidates, totalling 13930 fits\n"
     ]
    },
    {
     "name": "stderr",
     "output_type": "stream",
     "text": [
      "[Parallel(n_jobs=-1)]: Using backend LokyBackend with 8 concurrent workers.\n",
      "[Parallel(n_jobs=-1)]: Done  56 tasks      | elapsed:    0.2s\n",
      "[Parallel(n_jobs=-1)]: Done 1200 tasks      | elapsed:    5.6s\n",
      "[Parallel(n_jobs=-1)]: Done 3200 tasks      | elapsed:   16.7s\n",
      "[Parallel(n_jobs=-1)]: Done 6000 tasks      | elapsed:   38.2s\n",
      "[Parallel(n_jobs=-1)]: Done 9600 tasks      | elapsed:  1.1min\n",
      "[Parallel(n_jobs=-1)]: Done 13874 tasks      | elapsed:  1.7min\n",
      "[Parallel(n_jobs=-1)]: Done 13930 out of 13930 | elapsed:  1.7min finished\n"
     ]
    },
    {
     "data": {
      "text/plain": [
       "GridSearchCV(cv=5, estimator=LogisticRegression(), n_jobs=-1,\n",
       "             param_grid={'C': [0.001, 0.01, 0.1, 1, 10, 100, 1000],\n",
       "                         'max_iter': range(1, 200), 'penalty': ['l1', 'l2']},\n",
       "             return_train_score=True, verbose=1)"
      ]
     },
     "execution_count": 121,
     "metadata": {},
     "output_type": "execute_result"
    }
   ],
   "source": [
    "gs_logit_para = { 'max_iter' : range(1,200), 'penalty' : ['l1','l2'], 'C' : [0.001, 0.01, 0.1, 1, 10, 100, 1000]}\n",
    "gs_logit = GridSearchCV(LogisticRegression(), param_grid = gs_logit_para, cv = 5, verbose = 1, \n",
    "                        n_jobs = -1, return_train_score = True)\n",
    "gs_logit.fit(X_train_pca, y_train)"
   ]
  },
  {
   "cell_type": "code",
   "execution_count": 122,
   "metadata": {
    "scrolled": true
   },
   "outputs": [
    {
     "data": {
      "text/plain": [
       "0.8048"
      ]
     },
     "execution_count": 122,
     "metadata": {},
     "output_type": "execute_result"
    }
   ],
   "source": [
    "gs_logit.best_score_"
   ]
  },
  {
   "cell_type": "code",
   "execution_count": 123,
   "metadata": {
    "scrolled": false
   },
   "outputs": [
    {
     "name": "stdout",
     "output_type": "stream",
     "text": [
      "Logistic Regression -PCA grid search Best Parameters {'C': 100, 'max_iter': 9, 'penalty': 'l2'}\n"
     ]
    }
   ],
   "source": [
    "print(\"Logistic Regression -PCA grid search Best Parameters {}\".format(gs_logit.best_params_))"
   ]
  },
  {
   "cell_type": "markdown",
   "metadata": {},
   "source": [
    "#### Applying best parameters 'C': 100, 'max_iter': 9, 'penalty': 'l2' obtained using grid search"
   ]
  },
  {
   "cell_type": "code",
   "execution_count": 124,
   "metadata": {
    "scrolled": false
   },
   "outputs": [],
   "source": [
    "logit_pca = LogisticRegression(C=100, max_iter=9, penalty='l2')\n",
    "logit_pca.fit(X_train_pca, y_train)\n",
    "y_pred = logit_pca.predict(X_test_pca)"
   ]
  },
  {
   "cell_type": "code",
   "execution_count": 125,
   "metadata": {
    "scrolled": true
   },
   "outputs": [
    {
     "name": "stdout",
     "output_type": "stream",
     "text": [
      "Training score: 0.805\n",
      "Testing score: 0.809\n"
     ]
    }
   ],
   "source": [
    "print('Training score: {:.3f}'.format(logit_pca.score(X_train_pca,y_train)))\n",
    "print('Testing score: {:.3f}'.format(logit_pca.score(X_test_pca,y_test)))"
   ]
  },
  {
   "cell_type": "code",
   "execution_count": 126,
   "metadata": {
    "scrolled": false
   },
   "outputs": [
    {
     "name": "stdout",
     "output_type": "stream",
     "text": [
      "              precision    recall  f1-score   support\n",
      "\n",
      "         0.0       0.82      0.98      0.89      5950\n",
      "         1.0       0.66      0.15      0.25      1550\n",
      "\n",
      "    accuracy                           0.81      7500\n",
      "   macro avg       0.74      0.57      0.57      7500\n",
      "weighted avg       0.78      0.81      0.76      7500\n",
      "\n"
     ]
    }
   ],
   "source": [
    "print(classification_report(y_pred = y_pred, y_true = y_test))"
   ]
  },
  {
   "cell_type": "code",
   "execution_count": 127,
   "metadata": {
    "scrolled": false
   },
   "outputs": [
    {
     "name": "stdout",
     "output_type": "stream",
     "text": [
      "[[5826  124]\n",
      " [1311  239]]\n"
     ]
    }
   ],
   "source": [
    "print(confusion_matrix(y_pred = y_pred, y_true = y_test))"
   ]
  },
  {
   "cell_type": "code",
   "execution_count": 128,
   "metadata": {
    "scrolled": true
   },
   "outputs": [
    {
     "data": {
      "image/png": "[encoded data removed]",
      "text/plain": [
       "<Figure size 432x288 with 1 Axes>"
      ]
     },
     "metadata": {
      "needs_background": "light"
     },
     "output_type": "display_data"
    }
   ],
   "source": [
    "import mglearn\n",
    "heatmap = mglearn.tools.heatmap(\n",
    "    confusion_matrix(y_pred = y_pred, y_true = y_test), xlabel = 'Predicted label',\n",
    "    ylabel='True label', xticklabels = ['No Default','Default'], yticklabels=['No Default','Default'], cmap = \"RdYlGn\", fmt=\"%d\")\n",
    "plt.title(\"Confusion matrix (KNN)\")\n",
    "plt.gca().invert_yaxis()"
   ]
  },
  {
   "cell_type": "code",
   "execution_count": 129,
   "metadata": {
    "scrolled": false
   },
   "outputs": [
    {
     "name": "stdout",
     "output_type": "stream",
     "text": [
      "Logistic Regression-PCA f1-score : 0.250 \n"
     ]
    }
   ],
   "source": [
    "print('Logistic Regression-PCA f1-score : {:.3f} '.format(f1_score(y_test,logit_pca.predict(X_test_pca))))"
   ]
  },
  {
   "cell_type": "code",
   "execution_count": 130,
   "metadata": {
    "scrolled": true
   },
   "outputs": [
    {
     "name": "stdout",
     "output_type": "stream",
     "text": [
      "Logistic Regression-PCA Accuracy : 0.809 \n"
     ]
    }
   ],
   "source": [
    "print('Logistic Regression-PCA Accuracy : {:.3f} '.format(accuracy_score(y_test, logit_pca.predict(X_test_pca))))"
   ]
  },
  {
   "cell_type": "markdown",
   "metadata": {},
   "source": [
    "<h2> 3. Linear Support Vector Machine Classifier- PCA <h2>"
   ]
  },
  {
   "cell_type": "markdown",
   "metadata": {},
   "source": [
    "#### Finding best parameters for the model using grid search"
   ]
  },
  {
   "cell_type": "code",
   "execution_count": 131,
   "metadata": {
    "scrolled": true
   },
   "outputs": [
    {
     "name": "stdout",
     "output_type": "stream",
     "text": [
      "Fitting 5 folds for each of 1043 candidates, totalling 5215 fits\n"
     ]
    },
    {
     "name": "stderr",
     "output_type": "stream",
     "text": [
      "[Parallel(n_jobs=-1)]: Using backend LokyBackend with 8 concurrent workers.\n",
      "[Parallel(n_jobs=-1)]: Done  52 tasks      | elapsed:    0.7s\n",
      "[Parallel(n_jobs=-1)]: Done 352 tasks      | elapsed:    5.4s\n",
      "[Parallel(n_jobs=-1)]: Done 852 tasks      | elapsed:   13.0s\n",
      "[Parallel(n_jobs=-1)]: Done 1552 tasks      | elapsed:   22.8s\n",
      "[Parallel(n_jobs=-1)]: Done 2452 tasks      | elapsed:   42.5s\n",
      "[Parallel(n_jobs=-1)]: Done 3048 tasks      | elapsed:  1.5min\n",
      "[Parallel(n_jobs=-1)]: Done 3698 tasks      | elapsed:  2.4min\n",
      "[Parallel(n_jobs=-1)]: Done 4448 tasks      | elapsed:  3.5min\n",
      "[Parallel(n_jobs=-1)]: Done 5215 out of 5215 | elapsed:  4.6min finished\n"
     ]
    },
    {
     "data": {
      "text/plain": [
       "GridSearchCV(cv=5, estimator=LinearSVC(), n_jobs=-1,\n",
       "             param_grid={'C': [0.001, 0.01, 0.1, 1, 10, 100, 1000],\n",
       "                         'max_iter': range(1, 150)},\n",
       "             return_train_score=True, verbose=1)"
      ]
     },
     "execution_count": 131,
     "metadata": {},
     "output_type": "execute_result"
    }
   ],
   "source": [
    "from sklearn.svm import LinearSVC\n",
    "gs_linearsvm_para= { 'max_iter' : range(1,150),'C' : [ 0.001,0.01, 0.1, 1, 10, 100,1000]}\n",
    "gs_linearsvm = GridSearchCV(LinearSVC(), param_grid = gs_linearsvm_para, cv = 5, verbose = 1,\n",
    "                            n_jobs = -1, return_train_score = True)\n",
    "gs_linearsvm.fit(X_train_pca, y_train)"
   ]
  },
  {
   "cell_type": "code",
   "execution_count": 132,
   "metadata": {
    "scrolled": false
   },
   "outputs": [
    {
     "data": {
      "text/plain": [
       "0.8049777777777779"
      ]
     },
     "execution_count": 132,
     "metadata": {},
     "output_type": "execute_result"
    }
   ],
   "source": [
    "gs_linearsvm.best_score_"
   ]
  },
  {
   "cell_type": "code",
   "execution_count": 133,
   "metadata": {
    "scrolled": false
   },
   "outputs": [
    {
     "name": "stdout",
     "output_type": "stream",
     "text": [
      "Linear SVM - PCA grid search Best Parameters {'C': 10, 'max_iter': 69}\n"
     ]
    }
   ],
   "source": [
    "print(\"Linear SVM - PCA grid search Best Parameters {}\".format(gs_linearsvm.best_params_))"
   ]
  },
  {
   "cell_type": "markdown",
   "metadata": {},
   "source": [
    "### ."
   ]
  },
  {
   "cell_type": "markdown",
   "metadata": {},
   "source": [
    "#### Applying best parameters 'C': 10, 'max_iter': 69 obtained using grid search"
   ]
  },
  {
   "cell_type": "code",
   "execution_count": 134,
   "metadata": {
    "scrolled": false
   },
   "outputs": [],
   "source": [
    "linearsvm_pca = LinearSVC(C= 10, max_iter= 69)\n",
    "linearsvm_pca.fit(X_train_pca, y_train)\n",
    "y_pred = linearsvm_pca.predict(X_test_pca)"
   ]
  },
  {
   "cell_type": "code",
   "execution_count": 135,
   "metadata": {
    "scrolled": true
   },
   "outputs": [
    {
     "name": "stdout",
     "output_type": "stream",
     "text": [
      "Training score: 0.800\n",
      "Testing score: 0.808\n"
     ]
    }
   ],
   "source": [
    "print('Training score: {:.3f}'.format(linearsvm_pca.score(X_train_pca,y_train)))\n",
    "print('Testing score: {:.3f}'.format(linearsvm_pca.score(X_test_pca,y_test)))"
   ]
  },
  {
   "cell_type": "code",
   "execution_count": 136,
   "metadata": {
    "scrolled": false
   },
   "outputs": [
    {
     "name": "stdout",
     "output_type": "stream",
     "text": [
      "              precision    recall  f1-score   support\n",
      "\n",
      "         0.0       0.81      0.98      0.89      5950\n",
      "         1.0       0.69      0.13      0.22      1550\n",
      "\n",
      "    accuracy                           0.81      7500\n",
      "   macro avg       0.75      0.56      0.55      7500\n",
      "weighted avg       0.79      0.81      0.75      7500\n",
      "\n"
     ]
    }
   ],
   "source": [
    "print(classification_report(y_pred = y_pred, y_true = y_test))"
   ]
  },
  {
   "cell_type": "code",
   "execution_count": 137,
   "metadata": {
    "scrolled": false
   },
   "outputs": [
    {
     "name": "stdout",
     "output_type": "stream",
     "text": [
      "[[5859   91]\n",
      " [1350  200]]\n"
     ]
    }
   ],
   "source": [
    "print(confusion_matrix(y_pred = y_pred, y_true = y_test))"
   ]
  },
  {
   "cell_type": "code",
   "execution_count": 138,
   "metadata": {
    "scrolled": true
   },
   "outputs": [
    {
     "data": {
      "image/png": "[encoded data removed]",
      "text/plain": [
       "<Figure size 432x288 with 1 Axes>"
      ]
     },
     "metadata": {
      "needs_background": "light"
     },
     "output_type": "display_data"
    }
   ],
   "source": [
    "import mglearn\n",
    "heatmap = mglearn.tools.heatmap(\n",
    "    confusion_matrix(y_pred = y_pred, y_true = y_test), xlabel = 'Predicted label',\n",
    "    ylabel='True label', xticklabels = ['No Default','Default'], yticklabels=['No Default','Default'], cmap = \"RdYlGn\", fmt=\"%d\")\n",
    "plt.title(\"Confusion matrix Linear SVM\")\n",
    "plt.gca().invert_yaxis()"
   ]
  },
  {
   "cell_type": "code",
   "execution_count": 139,
   "metadata": {
    "scrolled": true
   },
   "outputs": [
    {
     "name": "stdout",
     "output_type": "stream",
     "text": [
      "Linear Support Vector Machine-PCA f1-score : 0.217 \n"
     ]
    }
   ],
   "source": [
    "print('Linear Support Vector Machine-PCA f1-score : {:.3f} '.format(f1_score(y_test,linearsvm_pca.predict(X_test_pca))))"
   ]
  },
  {
   "cell_type": "code",
   "execution_count": 140,
   "metadata": {
    "scrolled": true
   },
   "outputs": [
    {
     "name": "stdout",
     "output_type": "stream",
     "text": [
      "Linear Support Vector Machine -PCA Accuracy : 0.808 \n"
     ]
    }
   ],
   "source": [
    "print('Linear Support Vector Machine -PCA Accuracy : {:.3f} '.format(accuracy_score(y_test, linearsvm_pca.predict(X_test_pca))))"
   ]
  },
  {
   "cell_type": "markdown",
   "metadata": {},
   "source": [
    "<h2>4.Kernalized Support Vector Machine (rbf, poly, and linear)- PCA <h2>\n",
    "    \n",
    "### Reducing sample size to 1000 samples with subsampling.Let's map the training samples with random feature mapping to obtain training set and train linear SVMs in parallel to get a unified model on the training set.   "
   ]
  },
  {
   "cell_type": "code",
   "execution_count": 141,
   "metadata": {
    "scrolled": true
   },
   "outputs": [],
   "source": [
    "dcc_k = dcc.sample(n = 1000, random_state= 0)"
   ]
  },
  {
   "cell_type": "code",
   "execution_count": 142,
   "metadata": {
    "scrolled": true
   },
   "outputs": [
    {
     "data": {
      "text/plain": [
       "(1000, 24)"
      ]
     },
     "execution_count": 142,
     "metadata": {},
     "output_type": "execute_result"
    }
   ],
   "source": [
    "dcc_k.shape"
   ]
  },
  {
   "cell_type": "code",
   "execution_count": 143,
   "metadata": {
    "scrolled": true
   },
   "outputs": [],
   "source": [
    "X_k = dcc_k.drop(['Default_Payment'],axis =1)\n",
    "y_k = dcc_k['Default_Payment']\n",
    "X_train_org_k, X_test_org_k, y_train_k, y_test_k = train_test_split(X_k, y_k, random_state = 0)"
   ]
  },
  {
   "cell_type": "code",
   "execution_count": 144,
   "metadata": {
    "scrolled": true
   },
   "outputs": [],
   "source": [
    "scaler = MinMaxScaler()\n",
    "X_train_k = scaler.fit_transform(X_train_org_k)\n",
    "X_test_k = scaler.transform(X_test_org_k)"
   ]
  },
  {
   "cell_type": "code",
   "execution_count": 145,
   "metadata": {
    "scrolled": true
   },
   "outputs": [
    {
     "data": {
      "text/plain": [
       "(750, 23)"
      ]
     },
     "execution_count": 145,
     "metadata": {},
     "output_type": "execute_result"
    }
   ],
   "source": [
    "X_train_k.shape"
   ]
  },
  {
   "cell_type": "markdown",
   "metadata": {},
   "source": [
    "#### With an Explained Variance ratio of 95% let's perform Principal Component analyisis to reduce the dimensionality"
   ]
  },
  {
   "cell_type": "code",
   "execution_count": 146,
   "metadata": {
    "scrolled": true
   },
   "outputs": [],
   "source": [
    "from sklearn.decomposition import PCA\n",
    "pca_classification_svm = PCA(n_components = 0.95, random_state = 0)\n",
    "X_train_k_pca = pca_classification_svm.fit_transform(X_train_k)\n",
    "X_test_k_pca = pca_classification_svm.transform(X_test_k)"
   ]
  },
  {
   "cell_type": "markdown",
   "metadata": {},
   "source": [
    "#### Let's check how much of dimensionality is reduced using Explained Variance ratio of 95%."
   ]
  },
  {
   "cell_type": "code",
   "execution_count": 147,
   "metadata": {
    "scrolled": true
   },
   "outputs": [
    {
     "data": {
      "text/plain": [
       "(750, 10)"
      ]
     },
     "execution_count": 147,
     "metadata": {},
     "output_type": "execute_result"
    }
   ],
   "source": [
    "X_train_k_pca.shape"
   ]
  },
  {
   "cell_type": "markdown",
   "metadata": {},
   "source": [
    "#### As we can see that total 13 columns were dropped as a part of dimensionality reduction\n"
   ]
  },
  {
   "cell_type": "code",
   "execution_count": 148,
   "metadata": {
    "scrolled": false
   },
   "outputs": [
    {
     "data": {
      "text/plain": [
       "10"
      ]
     },
     "execution_count": 148,
     "metadata": {},
     "output_type": "execute_result"
    }
   ],
   "source": [
    "pca_classification_svm.n_components_"
   ]
  },
  {
   "cell_type": "code",
   "execution_count": 149,
   "metadata": {
    "scrolled": false
   },
   "outputs": [
    {
     "name": "stdout",
     "output_type": "stream",
     "text": [
      "Fitting 5 folds for each of 36 candidates, totalling 180 fits\n"
     ]
    },
    {
     "name": "stderr",
     "output_type": "stream",
     "text": [
      "[Parallel(n_jobs=-1)]: Using backend LokyBackend with 8 concurrent workers.\n",
      "[Parallel(n_jobs=-1)]: Done  34 tasks      | elapsed:    4.2s\n",
      "[Parallel(n_jobs=-1)]: Done 180 out of 180 | elapsed:    4.7s finished\n"
     ]
    },
    {
     "data": {
      "text/plain": [
       "GridSearchCV(cv=5, estimator=SVC(), n_jobs=-1,\n",
       "             param_grid={'C': [0.001, 0.01, 0.1, 1, 10, 100],\n",
       "                         'gamma': [0.001, 0.01, 0.1, 1, 10, 100]},\n",
       "             return_train_score=True, verbose=1)"
      ]
     },
     "execution_count": 149,
     "metadata": {},
     "output_type": "execute_result"
    }
   ],
   "source": [
    "gs_kernel_para= {'gamma':[0.001, 0.01, 0.1, 1, 10, 100],'C' : [ 0.001,0.01, 0.1, 1, 10, 100]}\n",
    "gs_kernel = GridSearchCV(SVC(), param_grid = gs_kernel_para, cv = 5, verbose = 1, n_jobs = -1, return_train_score = True)\n",
    "gs_kernel.fit(X_train_k_pca, y_train_k)"
   ]
  },
  {
   "cell_type": "code",
   "execution_count": 150,
   "metadata": {
    "scrolled": false
   },
   "outputs": [
    {
     "name": "stdout",
     "output_type": "stream",
     "text": [
      "SVC grid search Best Parameters {'C': 10, 'gamma': 1}\n"
     ]
    }
   ],
   "source": [
    "print(\"SVC grid search Best Parameters {}\".format(gs_kernel.best_params_))"
   ]
  },
  {
   "cell_type": "markdown",
   "metadata": {},
   "source": [
    "<h2>'C': 10, 'gamma': 1, kernel = poly </h2>"
   ]
  },
  {
   "cell_type": "code",
   "execution_count": 151,
   "metadata": {
    "scrolled": true
   },
   "outputs": [
    {
     "name": "stdout",
     "output_type": "stream",
     "text": [
      "[LibSVM]"
     ]
    }
   ],
   "source": [
    "kernel_poly = SVC(C = 10, gamma = 1, kernel = 'poly', verbose = 1)\n",
    "kernel_poly.fit(X_train_k,y_train_k)\n",
    "y_pred = kernel_poly.predict(X_test_k)"
   ]
  },
  {
   "cell_type": "code",
   "execution_count": 152,
   "metadata": {
    "scrolled": true
   },
   "outputs": [
    {
     "name": "stdout",
     "output_type": "stream",
     "text": [
      "Training score: 0.913\n",
      "Testing score: 0.788\n"
     ]
    }
   ],
   "source": [
    "print('Training score: {:.3f}'.format(kernel_poly.score(X_train_k, y_train_k)))\n",
    "print('Testing score: {:.3f}'.format(kernel_poly.score(X_test_k, y_test_k)))"
   ]
  },
  {
   "cell_type": "code",
   "execution_count": 153,
   "metadata": {
    "scrolled": true
   },
   "outputs": [
    {
     "name": "stdout",
     "output_type": "stream",
     "text": [
      "              precision    recall  f1-score   support\n",
      "\n",
      "         0.0       0.96      0.80      0.87       227\n",
      "         1.0       0.25      0.65      0.36        23\n",
      "\n",
      "    accuracy                           0.79       250\n",
      "   macro avg       0.60      0.73      0.62       250\n",
      "weighted avg       0.89      0.79      0.83       250\n",
      "\n"
     ]
    }
   ],
   "source": [
    "print(classification_report(y_pred,y_test_k))"
   ]
  },
  {
   "cell_type": "code",
   "execution_count": 154,
   "metadata": {
    "scrolled": true
   },
   "outputs": [
    {
     "name": "stdout",
     "output_type": "stream",
     "text": [
      "[[182   8]\n",
      " [ 45  15]]\n"
     ]
    }
   ],
   "source": [
    "print(confusion_matrix(y_pred=y_pred,y_true = y_test_k))"
   ]
  },
  {
   "cell_type": "code",
   "execution_count": 155,
   "metadata": {
    "scrolled": true
   },
   "outputs": [
    {
     "data": {
      "image/png": "[encoded data removed]",
      "text/plain": [
       "<Figure size 432x288 with 1 Axes>"
      ]
     },
     "metadata": {
      "needs_background": "light"
     },
     "output_type": "display_data"
    }
   ],
   "source": [
    "%matplotlib inline\n",
    "\n",
    "heatmap = mglearn.tools.heatmap(\n",
    "    confusion_matrix(y_pred = y_pred, y_true = y_test_k), xlabel = 'Predicted label',\n",
    "    ylabel='True label', xticklabels = ['No Default','Default'], yticklabels=['No Default','Default'], cmap = \"RdYlGn\", fmt = \"%d\")\n",
    "plt.title(\"Confusion matrix (kernel = poly)\")\n",
    "plt.gca().invert_yaxis()"
   ]
  },
  {
   "cell_type": "code",
   "execution_count": 156,
   "metadata": {
    "scrolled": true
   },
   "outputs": [
    {
     "name": "stdout",
     "output_type": "stream",
     "text": [
      "Support Vector Machine(kernel = poly)-PCA f1-score: 0.361 \n"
     ]
    }
   ],
   "source": [
    "print('Support Vector Machine(kernel = poly)-PCA f1-score: {:.3f} '.format(f1_score(y_test_k, kernel_poly.predict(X_test_k))))"
   ]
  },
  {
   "cell_type": "code",
   "execution_count": 157,
   "metadata": {
    "scrolled": true
   },
   "outputs": [
    {
     "name": "stdout",
     "output_type": "stream",
     "text": [
      "Support Vector Machine(kernel = poly)-PCA Accuracy : 0.788 \n"
     ]
    }
   ],
   "source": [
    "print('Support Vector Machine(kernel = poly)-PCA Accuracy : {:.3f} '.format(accuracy_score(y_test_k, kernel_poly.predict(X_test_k))))"
   ]
  },
  {
   "cell_type": "markdown",
   "metadata": {},
   "source": [
    "<h2>'C': 10, 'gamma': 1, kernel = linear </h2>"
   ]
  },
  {
   "cell_type": "code",
   "execution_count": 158,
   "metadata": {
    "scrolled": true
   },
   "outputs": [
    {
     "name": "stdout",
     "output_type": "stream",
     "text": [
      "[LibSVM]"
     ]
    }
   ],
   "source": [
    "kernel_lin = SVC(C = 10, gamma = 1, kernel = 'linear', verbose = 1)\n",
    "kernel_lin.fit(X_train_k,y_train_k)\n",
    "y_pred = kernel_lin.predict(X_test_k)"
   ]
  },
  {
   "cell_type": "code",
   "execution_count": 159,
   "metadata": {
    "scrolled": true
   },
   "outputs": [
    {
     "name": "stdout",
     "output_type": "stream",
     "text": [
      "Training score: 0.849\n",
      "Testing score: 0.792\n"
     ]
    }
   ],
   "source": [
    "print('Training score: {:.3f}'.format(kernel_lin.score(X_train_k, y_train_k)))\n",
    "print('Testing score: {:.3f}'.format(kernel_lin.score(X_test_k, y_test_k)))"
   ]
  },
  {
   "cell_type": "code",
   "execution_count": 160,
   "metadata": {
    "scrolled": true
   },
   "outputs": [
    {
     "name": "stdout",
     "output_type": "stream",
     "text": [
      "              precision    recall  f1-score   support\n",
      "\n",
      "         0.0       0.98      0.79      0.88       236\n",
      "         1.0       0.18      0.79      0.30        14\n",
      "\n",
      "    accuracy                           0.79       250\n",
      "   macro avg       0.58      0.79      0.59       250\n",
      "weighted avg       0.94      0.79      0.85       250\n",
      "\n"
     ]
    }
   ],
   "source": [
    "print(classification_report(y_pred,y_test_k))"
   ]
  },
  {
   "cell_type": "code",
   "execution_count": 161,
   "metadata": {
    "scrolled": true
   },
   "outputs": [
    {
     "name": "stdout",
     "output_type": "stream",
     "text": [
      "[[187   3]\n",
      " [ 49  11]]\n"
     ]
    }
   ],
   "source": [
    "print(confusion_matrix(y_pred=y_pred,y_true = y_test_k))"
   ]
  },
  {
   "cell_type": "code",
   "execution_count": 162,
   "metadata": {
    "scrolled": true
   },
   "outputs": [
    {
     "data": {
      "image/png": "[encoded data removed]",
      "text/plain": [
       "<Figure size 432x288 with 1 Axes>"
      ]
     },
     "metadata": {
      "needs_background": "light"
     },
     "output_type": "display_data"
    }
   ],
   "source": [
    "%matplotlib inline\n",
    "\n",
    "heatmap = mglearn.tools.heatmap(\n",
    "    confusion_matrix(y_pred = y_pred, y_true = y_test_k), xlabel = 'Predicted label',\n",
    "    ylabel='True label', xticklabels = ['No Default','Default'], yticklabels=['No Default','Default'], cmap = \"RdYlGn\", fmt = \"%d\")\n",
    "plt.title(\"Confusion matrix (kernel = linear)\")\n",
    "plt.gca().invert_yaxis()"
   ]
  },
  {
   "cell_type": "code",
   "execution_count": 163,
   "metadata": {
    "scrolled": false
   },
   "outputs": [
    {
     "name": "stdout",
     "output_type": "stream",
     "text": [
      "Support Vector Machine(kernel = linear)-f1 score: 0.297 \n"
     ]
    }
   ],
   "source": [
    "print('Support Vector Machine(kernel = linear)-f1 score: {:.3f} '.format(f1_score(y_test_k, kernel_lin.predict(X_test_k))))"
   ]
  },
  {
   "cell_type": "code",
   "execution_count": 164,
   "metadata": {
    "scrolled": false
   },
   "outputs": [
    {
     "name": "stdout",
     "output_type": "stream",
     "text": [
      "Support Vector Machine(kernel = linear)-PCA Accuracy : 0.792 \n"
     ]
    }
   ],
   "source": [
    "print('Support Vector Machine(kernel = linear)-PCA Accuracy : {:.3f} '.format(accuracy_score(y_test_k, kernel_lin.predict(X_test_k))))"
   ]
  },
  {
   "cell_type": "markdown",
   "metadata": {},
   "source": [
    "<h2>'C': 10, 'gamma': 1, kernel = rbf </h2>"
   ]
  },
  {
   "cell_type": "code",
   "execution_count": 165,
   "metadata": {
    "scrolled": true
   },
   "outputs": [
    {
     "name": "stdout",
     "output_type": "stream",
     "text": [
      "[LibSVM]"
     ]
    }
   ],
   "source": [
    "kernel_rbf = SVC(C = 10, gamma = 1, kernel = 'rbf', verbose = 1)\n",
    "kernel_rbf.fit(X_train_k,y_train_k)\n",
    "y_pred = kernel_rbf.predict(X_test_k)"
   ]
  },
  {
   "cell_type": "code",
   "execution_count": 166,
   "metadata": {
    "scrolled": true
   },
   "outputs": [
    {
     "name": "stdout",
     "output_type": "stream",
     "text": [
      "Training score: 0.907\n",
      "Testing score: 0.796\n"
     ]
    }
   ],
   "source": [
    "print('Training score: {:.3f}'.format(kernel_rbf.score(X_train_k, y_train_k)))\n",
    "print('Testing score: {:.3f}'.format(kernel_rbf.score(X_test_k, y_test_k)))"
   ]
  },
  {
   "cell_type": "code",
   "execution_count": 167,
   "metadata": {
    "scrolled": true
   },
   "outputs": [
    {
     "name": "stdout",
     "output_type": "stream",
     "text": [
      "              precision    recall  f1-score   support\n",
      "\n",
      "         0.0       0.97      0.80      0.88       229\n",
      "         1.0       0.25      0.71      0.37        21\n",
      "\n",
      "    accuracy                           0.80       250\n",
      "   macro avg       0.61      0.76      0.62       250\n",
      "weighted avg       0.91      0.80      0.84       250\n",
      "\n"
     ]
    }
   ],
   "source": [
    "print(classification_report(y_pred,y_test_k))"
   ]
  },
  {
   "cell_type": "code",
   "execution_count": 168,
   "metadata": {
    "scrolled": true
   },
   "outputs": [
    {
     "name": "stdout",
     "output_type": "stream",
     "text": [
      "[[184   6]\n",
      " [ 45  15]]\n"
     ]
    }
   ],
   "source": [
    "print(confusion_matrix(y_pred=y_pred,y_true = y_test_k))"
   ]
  },
  {
   "cell_type": "code",
   "execution_count": 169,
   "metadata": {
    "scrolled": true
   },
   "outputs": [
    {
     "data": {
      "image/png": "[encoded data removed]",
      "text/plain": [
       "<Figure size 432x288 with 1 Axes>"
      ]
     },
     "metadata": {
      "needs_background": "light"
     },
     "output_type": "display_data"
    }
   ],
   "source": [
    "%matplotlib inline\n",
    "\n",
    "heatmap = mglearn.tools.heatmap(\n",
    "    confusion_matrix(y_pred = y_pred, y_true = y_test_k), xlabel = 'Predicted label',\n",
    "    ylabel='True label', xticklabels = ['No Default','Default'], yticklabels=['No Default','Default'], cmap = \"RdYlGn\", fmt = \"%d\")\n",
    "plt.title(\"Confusion matrix (kernel = rbf)\")\n",
    "plt.gca().invert_yaxis()"
   ]
  },
  {
   "cell_type": "code",
   "execution_count": 170,
   "metadata": {
    "scrolled": true
   },
   "outputs": [
    {
     "name": "stdout",
     "output_type": "stream",
     "text": [
      "Support Vector Machine(kernel = rbf)-PCA f1-score : 0.370 \n"
     ]
    }
   ],
   "source": [
    "print('Support Vector Machine(kernel = rbf)-PCA f1-score : {:.3f} '.format(f1_score(y_test_k, kernel_rbf.predict(X_test_k))))"
   ]
  },
  {
   "cell_type": "code",
   "execution_count": 171,
   "metadata": {
    "scrolled": true
   },
   "outputs": [
    {
     "name": "stdout",
     "output_type": "stream",
     "text": [
      "Support Vector Machine(kernel = rbf)-PCA Accuracy : 0.796 \n"
     ]
    }
   ],
   "source": [
    "print('Support Vector Machine(kernel = rbf)-PCA Accuracy : {:.3f} '.format(accuracy_score(y_test_k, kernel_rbf.predict(X_test_k))))"
   ]
  },
  {
   "cell_type": "markdown",
   "metadata": {},
   "source": [
    "<h2>5.Decision Tree Classification - PCA</h2>\n",
    "     "
   ]
  },
  {
   "cell_type": "code",
   "execution_count": 172,
   "metadata": {
    "scrolled": true
   },
   "outputs": [
    {
     "name": "stdout",
     "output_type": "stream",
     "text": [
      "Fitting 5 folds for each of 1824 candidates, totalling 9120 fits\n"
     ]
    },
    {
     "name": "stderr",
     "output_type": "stream",
     "text": [
      "[Parallel(n_jobs=-1)]: Using backend LokyBackend with 8 concurrent workers.\n",
      "[Parallel(n_jobs=-1)]: Done  56 tasks      | elapsed:    0.4s\n",
      "[Parallel(n_jobs=-1)]: Done 656 tasks      | elapsed:    5.7s\n",
      "[Parallel(n_jobs=-1)]: Done 1656 tasks      | elapsed:   26.1s\n",
      "[Parallel(n_jobs=-1)]: Done 2096 tasks      | elapsed:   39.4s\n",
      "[Parallel(n_jobs=-1)]: Done 2546 tasks      | elapsed:   53.2s\n",
      "[Parallel(n_jobs=-1)]: Done 3096 tasks      | elapsed:  1.2min\n",
      "[Parallel(n_jobs=-1)]: Done 3746 tasks      | elapsed:  1.7min\n",
      "[Parallel(n_jobs=-1)]: Done 4496 tasks      | elapsed:  2.2min\n",
      "[Parallel(n_jobs=-1)]: Done 6092 tasks      | elapsed:  2.8min\n",
      "[Parallel(n_jobs=-1)]: Done 7616 tasks      | elapsed:  4.2min\n",
      "[Parallel(n_jobs=-1)]: Done 8666 tasks      | elapsed:  5.3min\n",
      "[Parallel(n_jobs=-1)]: Done 9120 out of 9120 | elapsed:  5.8min finished\n"
     ]
    },
    {
     "data": {
      "text/plain": [
       "GridSearchCV(cv=5, estimator=DecisionTreeClassifier(), n_jobs=-1,\n",
       "             param_grid={'criterion': ['gini', 'entropy'],\n",
       "                         'max_depth': range(1, 20),\n",
       "                         'min_samples_leaf': range(2, 50)},\n",
       "             verbose=1)"
      ]
     },
     "execution_count": 172,
     "metadata": {},
     "output_type": "execute_result"
    }
   ],
   "source": [
    "gs_dtree_para = {'max_depth': range(1,20),'criterion':['gini','entropy'],'min_samples_leaf' : range(2,50)}\n",
    "gs_dtree= GridSearchCV(DecisionTreeClassifier(), cv = 5, param_grid = gs_dtree_para , verbose = 1, n_jobs = -1)\n",
    "gs_dtree.fit(X_train_pca, y_train)"
   ]
  },
  {
   "cell_type": "code",
   "execution_count": 173,
   "metadata": {
    "scrolled": true
   },
   "outputs": [
    {
     "data": {
      "text/plain": [
       "0.8061333333333334"
      ]
     },
     "execution_count": 173,
     "metadata": {},
     "output_type": "execute_result"
    }
   ],
   "source": [
    "gs_dtree.best_score_"
   ]
  },
  {
   "cell_type": "code",
   "execution_count": 174,
   "metadata": {
    "scrolled": false
   },
   "outputs": [
    {
     "name": "stdout",
     "output_type": "stream",
     "text": [
      "Decision Tree Grid Search Best Parameters {'criterion': 'entropy', 'max_depth': 7, 'min_samples_leaf': 20}\n"
     ]
    }
   ],
   "source": [
    "print(\"Decision Tree Grid Search Best Parameters {}\".format(gs_dtree.best_params_))"
   ]
  },
  {
   "cell_type": "markdown",
   "metadata": {},
   "source": [
    "#### Applying best parameters 'criterion': 'entropy', 'max_depth': 7, 'min_samples_leaf': 20 obtained using grid search"
   ]
  },
  {
   "cell_type": "code",
   "execution_count": 175,
   "metadata": {
    "scrolled": false
   },
   "outputs": [],
   "source": [
    "dtree_pca = DecisionTreeClassifier(criterion ='entropy', max_depth= 7, min_samples_leaf= 20)\n",
    "dtree_pca.fit(X_train_pca, y_train)\n",
    "y_pred = dtree_pca.predict(X_test_pca)"
   ]
  },
  {
   "cell_type": "code",
   "execution_count": 176,
   "metadata": {
    "scrolled": true
   },
   "outputs": [
    {
     "name": "stdout",
     "output_type": "stream",
     "text": [
      "Training score: 0.823\n",
      "Testing score: 0.808\n"
     ]
    }
   ],
   "source": [
    "print('Training score: {:.3f}'.format(dtree_pca.score(X_train_pca,y_train)))\n",
    "print('Testing score: {:.3f}'.format(dtree_pca.score(X_test_pca,y_test)))"
   ]
  },
  {
   "cell_type": "code",
   "execution_count": 177,
   "metadata": {
    "scrolled": false
   },
   "outputs": [
    {
     "name": "stdout",
     "output_type": "stream",
     "text": [
      "              precision    recall  f1-score   support\n",
      "\n",
      "         0.0       0.84      0.94      0.89      5950\n",
      "         1.0       0.57      0.29      0.38      1550\n",
      "\n",
      "    accuracy                           0.81      7500\n",
      "   macro avg       0.70      0.62      0.63      7500\n",
      "weighted avg       0.78      0.81      0.78      7500\n",
      "\n"
     ]
    }
   ],
   "source": [
    "print(classification_report(y_pred = y_pred, y_true = y_test))"
   ]
  },
  {
   "cell_type": "code",
   "execution_count": 178,
   "metadata": {
    "scrolled": false
   },
   "outputs": [
    {
     "name": "stdout",
     "output_type": "stream",
     "text": [
      "[[5620  330]\n",
      " [1107  443]]\n"
     ]
    }
   ],
   "source": [
    "print(confusion_matrix(y_pred = y_pred, y_true = y_test))"
   ]
  },
  {
   "cell_type": "code",
   "execution_count": 179,
   "metadata": {
    "scrolled": true
   },
   "outputs": [
    {
     "data": {
      "image/png": "[encoded data removed]",
      "text/plain": [
       "<Figure size 432x288 with 1 Axes>"
      ]
     },
     "metadata": {
      "needs_background": "light"
     },
     "output_type": "display_data"
    }
   ],
   "source": [
    "import mglearn\n",
    "heatmap = mglearn.tools.heatmap(\n",
    "    confusion_matrix(y_pred = y_pred, y_true = y_test), xlabel = 'Predicted label',\n",
    "    ylabel='True label', xticklabels = ['No Default','Default'], yticklabels=['No Default','Default'], cmap = \"RdYlGn\", fmt=\"%d\")\n",
    "plt.title(\"Confusion matrix (Decision Tree)\")\n",
    "plt.gca().invert_yaxis()"
   ]
  },
  {
   "cell_type": "code",
   "execution_count": 180,
   "metadata": {
    "scrolled": true
   },
   "outputs": [
    {
     "name": "stdout",
     "output_type": "stream",
     "text": [
      "Decision tree f1-score : 0.381 \n"
     ]
    }
   ],
   "source": [
    "print('Decision tree f1-score : {:.3f} '.format(f1_score(y_test, dtree_pca.predict(X_test_pca))))"
   ]
  },
  {
   "cell_type": "code",
   "execution_count": 181,
   "metadata": {
    "scrolled": false
   },
   "outputs": [
    {
     "name": "stdout",
     "output_type": "stream",
     "text": [
      "Decision tree Accuracy : 0.808 \n"
     ]
    }
   ],
   "source": [
    "print('Decision tree Accuracy : {:.3f} '.format(accuracy_score(y_test, dtree_pca.predict(X_test_pca))))"
   ]
  },
  {
   "cell_type": "markdown",
   "metadata": {},
   "source": [
    "### Let's compare the values of models from Project 1(without PCA) and Project 2(with PCA) \n",
    "\n",
    "#### Based on our data, we are more concerened about False Positives and False negative and hence one of the measure to evaluate the model performance can be F1 score. The highest possible value of an F-score is 1.0, indicating perfect precision and recall, and the lowest possible value is 0, if either the precision or the recall is zero"
   ]
  },
  {
   "cell_type": "markdown",
   "metadata": {},
   "source": [
    "#### Accuracy score before and after PCA"
   ]
  },
  {
   "cell_type": "code",
   "execution_count": 182,
   "metadata": {
    "scrolled": true
   },
   "outputs": [
    {
     "name": "stdout",
     "output_type": "stream",
     "text": [
      "KNN-PCA Accuracy - Without PCA :  0.81 \n",
      "Logistic Regression-PCA Accuracy - Without PCA : 0.82\n",
      "Linear Support Vector Machine Accuracy - Without PCA : 0.81\n",
      "Support Vector Machine(kernel = poly)Accuracy - Without PCA : 0.77\n",
      "Support Vector Machine(kernel = linear)Accuracy - Without PCA: 0.76\n",
      "Support Vector Machine(kernel = rbf)Accuracy - Without PCA: 0.76\n",
      "Decision tree Accuracy - Without PCA: : 0.83\n"
     ]
    }
   ],
   "source": [
    "print('KNN-PCA Accuracy - Without PCA :  0.81 ')\n",
    "print('Logistic Regression-PCA Accuracy - Without PCA : 0.82')\n",
    "print('Linear Support Vector Machine Accuracy - Without PCA : 0.81')\n",
    "print('Support Vector Machine(kernel = poly)Accuracy - Without PCA : 0.77')\n",
    "print('Support Vector Machine(kernel = linear)Accuracy - Without PCA: 0.76')\n",
    "print('Support Vector Machine(kernel = rbf)Accuracy - Without PCA: 0.76')\n",
    "print('Decision tree Accuracy - Without PCA: : 0.83')"
   ]
  },
  {
   "cell_type": "code",
   "execution_count": 183,
   "metadata": {
    "scrolled": true
   },
   "outputs": [
    {
     "name": "stdout",
     "output_type": "stream",
     "text": [
      "KNN-PCA Accuracy - PCA : 0.81 \n",
      "Logistic Regression-PCA Accuracy : 0.81 \n",
      "Linear Support Vector Machine -PCA Accuracy : 0.81 \n",
      "Support Vector Machine(kernel = poly)-PCA Accuracy : 0.79 \n",
      "Support Vector Machine(kernel = linear)-PCA Accuracy : 0.79 \n",
      "Support Vector Machine(kernel = rbf)-PCA Accuracy : 0.80 \n",
      "Decision tree Accuracy - PCA : 0.81 \n"
     ]
    }
   ],
   "source": [
    "print('KNN-PCA Accuracy - PCA : {:.2f} '.format(accuracy_score(y_test, knn_pca.predict(X_test_pca))))\n",
    "print('Logistic Regression-PCA Accuracy : {:.2f} '.format(accuracy_score(y_test, logit_pca.predict(X_test_pca))))\n",
    "print('Linear Support Vector Machine -PCA Accuracy : {:.2f} '.format(accuracy_score(y_test, linearsvm_pca.predict(X_test_pca))))\n",
    "print('Support Vector Machine(kernel = poly)-PCA Accuracy : {:.2f} '.format(accuracy_score(y_test_k, kernel_poly.predict(X_test_k))))\n",
    "print('Support Vector Machine(kernel = linear)-PCA Accuracy : {:.2f} '.format(accuracy_score(y_test_k, kernel_lin.predict(X_test_k))))\n",
    "print('Support Vector Machine(kernel = rbf)-PCA Accuracy : {:.2f} '.format(accuracy_score(y_test_k, kernel_rbf.predict(X_test_k))))\n",
    "print('Decision tree Accuracy - PCA : {:.2f} '.format(accuracy_score(y_test, dtree_pca.predict(X_test_pca))))"
   ]
  },
  {
   "cell_type": "markdown",
   "metadata": {},
   "source": [
    "#### f1- score before and after PCA"
   ]
  },
  {
   "cell_type": "code",
   "execution_count": 184,
   "metadata": {
    "scrolled": true
   },
   "outputs": [
    {
     "name": "stdout",
     "output_type": "stream",
     "text": [
      "KNN-PCA f1_score - Without PCA :  0.35 \n",
      "Logistic f1_score-PCA Accuracy - Without PCA : 0.30\n",
      "Linear Support Vector Machine f1_score - Without PCA : 0.17\n",
      "Support Vector Machine(kernel = poly) f1_score - Without PCA : 0.17\n",
      "Support Vector Machine(kernel = linear) f1_score - Without PCA: 0\n",
      "Support Vector Machine(kernel = rbf) f1_score - Without PCA: 0\n",
      "Decision tree f1_score- Without PCA: : 0.46\n"
     ]
    }
   ],
   "source": [
    "print('KNN-PCA f1_score - Without PCA :  0.35 ')\n",
    "print('Logistic f1_score-PCA Accuracy - Without PCA : 0.30')\n",
    "print('Linear Support Vector Machine f1_score - Without PCA : 0.17')\n",
    "print('Support Vector Machine(kernel = poly) f1_score - Without PCA : 0.17')\n",
    "print('Support Vector Machine(kernel = linear) f1_score - Without PCA: 0')\n",
    "print('Support Vector Machine(kernel = rbf) f1_score - Without PCA: 0')\n",
    "print('Decision tree f1_score- Without PCA: : 0.46')"
   ]
  },
  {
   "cell_type": "code",
   "execution_count": 185,
   "metadata": {
    "scrolled": false
   },
   "outputs": [
    {
     "name": "stdout",
     "output_type": "stream",
     "text": [
      "KNN-PCA f1_score - PCA : 0.37 \n",
      "Logistic Regression-PCA f1_score : 0.25 \n",
      "Linear Support Vector Machine -PCA f1_score : 0.22 \n",
      "Support Vector Machine(kernel = poly)-PCA f1_score : 0.36 \n",
      "Support Vector Machine(kernel = linear)-PCA f1_score : 0.30 \n",
      "Support Vector Machine(kernel = rbf)-PCA f1_score : 0.37 \n",
      "Decision tree f1_score - PCA : 0.38 \n"
     ]
    }
   ],
   "source": [
    "print('KNN-PCA f1_score - PCA : {:.2f} '.format(f1_score(y_test, knn_pca.predict(X_test_pca))))\n",
    "print('Logistic Regression-PCA f1_score : {:.2f} '.format(f1_score(y_test, logit_pca.predict(X_test_pca))))\n",
    "print('Linear Support Vector Machine -PCA f1_score : {:.2f} '.format(f1_score(y_test, linearsvm_pca.predict(X_test_pca))))\n",
    "print('Support Vector Machine(kernel = poly)-PCA f1_score : {:.2f} '.format(f1_score(y_test_k, kernel_poly.predict(X_test_k))))\n",
    "print('Support Vector Machine(kernel = linear)-PCA f1_score : {:.2f} '.format(f1_score(y_test_k, kernel_lin.predict(X_test_k))))\n",
    "print('Support Vector Machine(kernel = rbf)-PCA f1_score : {:.2f} '.format(f1_score(y_test_k, kernel_rbf.predict(X_test_k))))\n",
    "print('Decision tree f1_score - PCA : {:.2f} '.format(f1_score(y_test, dtree_pca.predict(X_test_pca))))"
   ]
  },
  {
   "cell_type": "markdown",
   "metadata": {},
   "source": [
    "### Conclusion"
   ]
  },
  {
   "cell_type": "markdown",
   "metadata": {},
   "source": [
    "The objective of Principal Component Analysis is to find a low-dimension set of axes that summarize data. We can clearly observe the following things by comparing similar models that were designed with and without PCA \n",
    "\n",
    "1. The accuracy score remains the almost same for all the models after PCA, except in case of SVM where the accuracy score gets better after we reduce the dimension using PCA. Primararily because principal components are linear combinations of original variable so when we peform SVM on dimensionally reduced data we are not working on the original data and hence the accuracy of the SVM on dimensionally reduced data is high due to increasing interpretability and information Rloss.\n",
    "\n",
    "2. Based on our dataset our focus is on people who are 'defaulters [category = 1]'. Being an imbalanced dataset,the f1-score is a better parameter to compare the model performance as f1-score is more concerned about False Positives and False negatives and the score becomes high only when both precision and recall are high. Hence f1 score of models can better help me compare the model performance.\n",
    "\n",
    "3. The f1-score slighlty reduces in the models using PCA processed data possibly because while reducing the dimensionality of data we are also reducing a bit of noise from it.\n",
    "\n",
    "4. Overall we are able to achieve similar result for both PCA and Non-PCA dataset but by performing PCA we are achieving similar results by using a much much smaller computation power."
   ]
  },
  {
   "cell_type": "markdown",
   "metadata": {},
   "source": [
    "<h2>6. Apply deep learning models</h2>"
   ]
  },
  {
   "cell_type": "code",
   "execution_count": 186,
   "metadata": {
    "scrolled": true
   },
   "outputs": [],
   "source": [
    "# To stack layers on each other we are using sequential model \n",
    "from keras.models import Sequential\n",
    "\n",
    "#To establish connectivity between the nodes we are using Dense\n",
    "from keras.layers import Dense\n",
    "\n",
    "#for reproductability we are going to assign seed value of 10\n",
    "np.random.seed(10)"
   ]
  },
  {
   "cell_type": "code",
   "execution_count": 187,
   "metadata": {
    "scrolled": true
   },
   "outputs": [],
   "source": [
    "model = Sequential()\n",
    "# input layer,  the number of the nodes we would like to consider in the input layer which in our case is 12 nodes\n",
    "model.add(Dense(12, input_dim=23, activation='relu'))\n",
    "\n",
    "#To connect the input and output layer we need a hidden layer, the number of nodes in this layer have to be between (output layer node = 1) to (input layer node = 12) \n",
    "model.add(Dense(8, activation='relu'))\n",
    "\n",
    "#For the output layer since we have two disjoint classes (0 or 1), we can use the sigmoid funtion similar to logistic regression. The number of layers in the output function in going to 1.\n",
    "model.add(Dense(1, activation='sigmoid'))"
   ]
  },
  {
   "cell_type": "markdown",
   "metadata": {},
   "source": [
    "#### Now let's proceed toward compiling the model, for this purpose we need three parameter, they are objective function, optimizer and evaluation metrics\n"
   ]
  },
  {
   "cell_type": "code",
   "execution_count": 188,
   "metadata": {
    "scrolled": true
   },
   "outputs": [],
   "source": [
    "model.compile(loss='binary_crossentropy', optimizer='adam', metrics=['accuracy'])"
   ]
  },
  {
   "cell_type": "markdown",
   "metadata": {},
   "source": [
    "#### For fitting the model we need two parameters to be defined, they are epochs and batch_size"
   ]
  },
  {
   "cell_type": "code",
   "execution_count": 189,
   "metadata": {
    "scrolled": false
   },
   "outputs": [
    {
     "name": "stdout",
     "output_type": "stream",
     "text": [
      "Epoch 1/150\n",
      "2250/2250 [==============================] - 2s 667us/step - loss: 0.4998 - accuracy: 0.7808\n",
      "Epoch 2/150\n",
      "2250/2250 [==============================] - 1s 612us/step - loss: 0.4551 - accuracy: 0.8107\n",
      "Epoch 3/150\n",
      "2250/2250 [==============================] - 1s 663us/step - loss: 0.4430 - accuracy: 0.8160\n",
      "Epoch 4/150\n",
      "2250/2250 [==============================] - 2s 758us/step - loss: 0.4410 - accuracy: 0.8152\n",
      "Epoch 5/150\n",
      "2250/2250 [==============================] - 2s 717us/step - loss: 0.4457 - accuracy: 0.8137\n",
      "Epoch 6/150\n",
      "2250/2250 [==============================] - 1s 639us/step - loss: 0.4390 - accuracy: 0.8177\n",
      "Epoch 7/150\n",
      "2250/2250 [==============================] - 2s 760us/step - loss: 0.4404 - accuracy: 0.8161\n",
      "Epoch 8/150\n",
      "2250/2250 [==============================] - 1s 615us/step - loss: 0.4416 - accuracy: 0.8159\n",
      "Epoch 9/150\n",
      "2250/2250 [==============================] - 2s 688us/step - loss: 0.4342 - accuracy: 0.8196\n",
      "Epoch 10/150\n",
      "2250/2250 [==============================] - 2s 745us/step - loss: 0.4331 - accuracy: 0.8197\n",
      "Epoch 11/150\n",
      "2250/2250 [==============================] - 1s 591us/step - loss: 0.4338 - accuracy: 0.8169\n",
      "Epoch 12/150\n",
      "2250/2250 [==============================] - 2s 695us/step - loss: 0.4297 - accuracy: 0.8231\n",
      "Epoch 13/150\n",
      "2250/2250 [==============================] - 2s 686us/step - loss: 0.4357 - accuracy: 0.8160\n",
      "Epoch 14/150\n",
      "2250/2250 [==============================] - 2s 717us/step - loss: 0.4354 - accuracy: 0.8199\n",
      "Epoch 15/150\n",
      "2250/2250 [==============================] - 2s 671us/step - loss: 0.4395 - accuracy: 0.8176\n",
      "Epoch 16/150\n",
      "2250/2250 [==============================] - 2s 676us/step - loss: 0.4346 - accuracy: 0.8200\n",
      "Epoch 17/150\n",
      "2250/2250 [==============================] - 2s 846us/step - loss: 0.4365 - accuracy: 0.8163\n",
      "Epoch 18/150\n",
      "2250/2250 [==============================] - 2s 732us/step - loss: 0.4349 - accuracy: 0.8190\n",
      "Epoch 19/150\n",
      "2250/2250 [==============================] - 2s 749us/step - loss: 0.4359 - accuracy: 0.8160\n",
      "Epoch 20/150\n",
      "2250/2250 [==============================] - 2s 706us/step - loss: 0.4375 - accuracy: 0.8162\n",
      "Epoch 21/150\n",
      "2250/2250 [==============================] - 2s 711us/step - loss: 0.4333 - accuracy: 0.8184\n",
      "Epoch 22/150\n",
      "2250/2250 [==============================] - 2s 754us/step - loss: 0.4320 - accuracy: 0.8206\n",
      "Epoch 23/150\n",
      "2250/2250 [==============================] - 2s 709us/step - loss: 0.4320 - accuracy: 0.8184\n",
      "Epoch 24/150\n",
      "2250/2250 [==============================] - 2s 701us/step - loss: 0.4243 - accuracy: 0.8253\n",
      "Epoch 25/150\n",
      "2250/2250 [==============================] - 2s 708us/step - loss: 0.4291 - accuracy: 0.8182\n",
      "Epoch 26/150\n",
      "2250/2250 [==============================] - 2s 670us/step - loss: 0.4344 - accuracy: 0.8190\n",
      "Epoch 27/150\n",
      "2250/2250 [==============================] - 2s 847us/step - loss: 0.4318 - accuracy: 0.8202\n",
      "Epoch 28/150\n",
      "2250/2250 [==============================] - 1s 619us/step - loss: 0.4274 - accuracy: 0.8226\n",
      "Epoch 29/150\n",
      "2250/2250 [==============================] - 1s 666us/step - loss: 0.4323 - accuracy: 0.8179\n",
      "Epoch 30/150\n",
      "2250/2250 [==============================] - 2s 675us/step - loss: 0.4193 - accuracy: 0.8263\n",
      "Epoch 31/150\n",
      "2250/2250 [==============================] - 1s 661us/step - loss: 0.4271 - accuracy: 0.8219\n",
      "Epoch 32/150\n",
      "2250/2250 [==============================] - 2s 671us/step - loss: 0.4316 - accuracy: 0.8175\n",
      "Epoch 33/150\n",
      "2250/2250 [==============================] - 1s 666us/step - loss: 0.4296 - accuracy: 0.8207\n",
      "Epoch 34/150\n",
      "2250/2250 [==============================] - 2s 692us/step - loss: 0.4254 - accuracy: 0.8207\n",
      "Epoch 35/150\n",
      "2250/2250 [==============================] - 2s 717us/step - loss: 0.4289 - accuracy: 0.8186\n",
      "Epoch 36/150\n",
      "2250/2250 [==============================] - 2s 676us/step - loss: 0.4322 - accuracy: 0.8180\n",
      "Epoch 37/150\n",
      "2250/2250 [==============================] - 2s 760us/step - loss: 0.4202 - accuracy: 0.8248\n",
      "Epoch 38/150\n",
      "2250/2250 [==============================] - 2s 753us/step - loss: 0.4261 - accuracy: 0.8233\n",
      "Epoch 39/150\n",
      "2250/2250 [==============================] - 2s 670us/step - loss: 0.4365 - accuracy: 0.8166\n",
      "Epoch 40/150\n",
      "2250/2250 [==============================] - 2s 790us/step - loss: 0.4257 - accuracy: 0.8208\n",
      "Epoch 41/150\n",
      "2250/2250 [==============================] - 1s 647us/step - loss: 0.4304 - accuracy: 0.8194\n",
      "Epoch 42/150\n",
      "2250/2250 [==============================] - 1s 644us/step - loss: 0.4325 - accuracy: 0.8187\n",
      "Epoch 43/150\n",
      "2250/2250 [==============================] - 1s 642us/step - loss: 0.4288 - accuracy: 0.8196\n",
      "Epoch 44/150\n",
      "2250/2250 [==============================] - 1s 644us/step - loss: 0.4336 - accuracy: 0.8185\n",
      "Epoch 45/150\n",
      "2250/2250 [==============================] - 1s 661us/step - loss: 0.4233 - accuracy: 0.8248\n",
      "Epoch 46/150\n",
      "2250/2250 [==============================] - 2s 676us/step - loss: 0.4299 - accuracy: 0.8205\n",
      "Epoch 47/150\n",
      "2250/2250 [==============================] - 2s 719us/step - loss: 0.4251 - accuracy: 0.8231\n",
      "Epoch 48/150\n",
      "2250/2250 [==============================] - 2s 828us/step - loss: 0.4228 - accuracy: 0.8258\n",
      "Epoch 49/150\n",
      "2250/2250 [==============================] - 2s 669us/step - loss: 0.4298 - accuracy: 0.8194\n",
      "Epoch 50/150\n",
      "2250/2250 [==============================] - 1s 664us/step - loss: 0.4237 - accuracy: 0.8236\n",
      "Epoch 51/150\n",
      "2250/2250 [==============================] - 1s 655us/step - loss: 0.4257 - accuracy: 0.8218\n",
      "Epoch 52/150\n",
      "2250/2250 [==============================] - 2s 687us/step - loss: 0.4279 - accuracy: 0.8218\n",
      "Epoch 53/150\n",
      "2250/2250 [==============================] - 1s 626us/step - loss: 0.4237 - accuracy: 0.8244\n",
      "Epoch 54/150\n",
      "2250/2250 [==============================] - 1s 616us/step - loss: 0.4216 - accuracy: 0.8238\n",
      "Epoch 55/150\n",
      "2250/2250 [==============================] - 1s 659us/step - loss: 0.4232 - accuracy: 0.8246\n",
      "Epoch 56/150\n",
      "2250/2250 [==============================] - 2s 706us/step - loss: 0.4281 - accuracy: 0.8220\n",
      "Epoch 57/150\n",
      "2250/2250 [==============================] - 2s 682us/step - loss: 0.4254 - accuracy: 0.8240\n",
      "Epoch 58/150\n",
      "2250/2250 [==============================] - 2s 799us/step - loss: 0.4321 - accuracy: 0.8174\n",
      "Epoch 59/150\n",
      "2250/2250 [==============================] - 2s 716us/step - loss: 0.4299 - accuracy: 0.8184\n",
      "Epoch 60/150\n",
      "2250/2250 [==============================] - 2s 801us/step - loss: 0.4198 - accuracy: 0.8235\n",
      "Epoch 61/150\n",
      "2250/2250 [==============================] - 2s 677us/step - loss: 0.4273 - accuracy: 0.8171\n",
      "Epoch 62/150\n",
      "2250/2250 [==============================] - 2s 756us/step - loss: 0.4277 - accuracy: 0.8190\n",
      "Epoch 63/150\n",
      "2250/2250 [==============================] - 2s 675us/step - loss: 0.4264 - accuracy: 0.8222\n",
      "Epoch 64/150\n",
      "2250/2250 [==============================] - 2s 694us/step - loss: 0.4252 - accuracy: 0.8239\n",
      "Epoch 65/150\n",
      "2250/2250 [==============================] - 2s 694us/step - loss: 0.4314 - accuracy: 0.8183\n",
      "Epoch 66/150\n",
      "2250/2250 [==============================] - 2s 708us/step - loss: 0.4208 - accuracy: 0.8230\n",
      "Epoch 67/150\n",
      "2250/2250 [==============================] - 2s 732us/step - loss: 0.4223 - accuracy: 0.8238\n",
      "Epoch 68/150\n",
      "2250/2250 [==============================] - 2s 881us/step - loss: 0.4303 - accuracy: 0.8175\n",
      "Epoch 69/150\n",
      "2250/2250 [==============================] - 2s 744us/step - loss: 0.4226 - accuracy: 0.8249\n",
      "Epoch 70/150\n",
      "2250/2250 [==============================] - 2s 670us/step - loss: 0.4226 - accuracy: 0.8239\n",
      "Epoch 71/150\n",
      "2250/2250 [==============================] - 2s 685us/step - loss: 0.4219 - accuracy: 0.8247\n",
      "Epoch 72/150\n",
      "2250/2250 [==============================] - 2s 705us/step - loss: 0.4237 - accuracy: 0.8218\n",
      "Epoch 73/150\n",
      "2250/2250 [==============================] - 2s 701us/step - loss: 0.4253 - accuracy: 0.8206\n",
      "Epoch 74/150\n",
      "2250/2250 [==============================] - 2s 689us/step - loss: 0.4244 - accuracy: 0.8223\n",
      "Epoch 75/150\n",
      "2250/2250 [==============================] - 2s 680us/step - loss: 0.4190 - accuracy: 0.8244\n",
      "Epoch 76/150\n",
      "2250/2250 [==============================] - 1s 657us/step - loss: 0.4216 - accuracy: 0.8236\n",
      "Epoch 77/150\n",
      "2250/2250 [==============================] - 2s 716us/step - loss: 0.4199 - accuracy: 0.8258\n",
      "Epoch 78/150\n",
      "2250/2250 [==============================] - 2s 885us/step - loss: 0.4155 - accuracy: 0.8278\n",
      "Epoch 79/150\n",
      "2250/2250 [==============================] - 2s 687us/step - loss: 0.4240 - accuracy: 0.8209\n",
      "Epoch 80/150\n",
      "2250/2250 [==============================] - 2s 734us/step - loss: 0.4228 - accuracy: 0.8235\n",
      "Epoch 81/150\n",
      "2250/2250 [==============================] - 2s 693us/step - loss: 0.4239 - accuracy: 0.8223\n",
      "Epoch 82/150\n",
      "2250/2250 [==============================] - 2s 746us/step - loss: 0.4186 - accuracy: 0.8254\n",
      "Epoch 83/150\n",
      "2250/2250 [==============================] - 2s 785us/step - loss: 0.4267 - accuracy: 0.8223\n",
      "Epoch 84/150\n",
      "2250/2250 [==============================] - 2s 718us/step - loss: 0.4238 - accuracy: 0.8204\n",
      "Epoch 85/150\n",
      "2250/2250 [==============================] - 2s 715us/step - loss: 0.4256 - accuracy: 0.8198\n",
      "Epoch 86/150\n",
      "2250/2250 [==============================] - 2s 736us/step - loss: 0.4168 - accuracy: 0.8272\n",
      "Epoch 87/150\n",
      "2250/2250 [==============================] - 2s 724us/step - loss: 0.4185 - accuracy: 0.8254\n",
      "Epoch 88/150\n",
      "2250/2250 [==============================] - 2s 733us/step - loss: 0.4232 - accuracy: 0.8197\n",
      "Epoch 89/150\n",
      "2250/2250 [==============================] - 2s 677us/step - loss: 0.4220 - accuracy: 0.8235\n",
      "Epoch 90/150\n",
      "2250/2250 [==============================] - 2s 697us/step - loss: 0.4232 - accuracy: 0.8216\n",
      "Epoch 91/150\n",
      "2250/2250 [==============================] - 2s 685us/step - loss: 0.4168 - accuracy: 0.8253\n",
      "Epoch 92/150\n",
      "2250/2250 [==============================] - 1s 651us/step - loss: 0.4231 - accuracy: 0.8216\n",
      "Epoch 93/150\n",
      "2250/2250 [==============================] - 1s 650us/step - loss: 0.4309 - accuracy: 0.8162\n",
      "Epoch 94/150\n",
      "2250/2250 [==============================] - 2s 668us/step - loss: 0.4145 - accuracy: 0.8266\n",
      "Epoch 95/150\n",
      "2250/2250 [==============================] - 2s 710us/step - loss: 0.4215 - accuracy: 0.8229\n",
      "Epoch 96/150\n",
      "2250/2250 [==============================] - 1s 662us/step - loss: 0.4296 - accuracy: 0.8209\n",
      "Epoch 97/150\n",
      "2250/2250 [==============================] - 2s 718us/step - loss: 0.4159 - accuracy: 0.8272\n",
      "Epoch 98/150\n",
      "2250/2250 [==============================] - 2s 879us/step - loss: 0.4264 - accuracy: 0.8214\n",
      "Epoch 99/150\n",
      "2250/2250 [==============================] - 2s 740us/step - loss: 0.4217 - accuracy: 0.8215\n",
      "Epoch 100/150\n",
      "2250/2250 [==============================] - 2s 676us/step - loss: 0.4235 - accuracy: 0.8260\n",
      "Epoch 101/150\n",
      "2250/2250 [==============================] - 2s 701us/step - loss: 0.4203 - accuracy: 0.8219\n",
      "Epoch 102/150\n",
      "2250/2250 [==============================] - 2s 766us/step - loss: 0.4227 - accuracy: 0.8229\n",
      "Epoch 103/150\n",
      "2250/2250 [==============================] - 2s 687us/step - loss: 0.4198 - accuracy: 0.8247\n",
      "Epoch 104/150\n",
      "2250/2250 [==============================] - 1s 631us/step - loss: 0.4214 - accuracy: 0.8240\n",
      "Epoch 105/150\n",
      "2250/2250 [==============================] - 1s 643us/step - loss: 0.4255 - accuracy: 0.8199\n",
      "Epoch 106/150\n",
      "2250/2250 [==============================] - 1s 639us/step - loss: 0.4180 - accuracy: 0.8231\n",
      "Epoch 107/150\n",
      "2250/2250 [==============================] - 1s 644us/step - loss: 0.4175 - accuracy: 0.8264\n",
      "Epoch 108/150\n",
      "2250/2250 [==============================] - 2s 762us/step - loss: 0.4128 - accuracy: 0.8292\n",
      "Epoch 109/150\n",
      "2250/2250 [==============================] - 1s 649us/step - loss: 0.4223 - accuracy: 0.8224\n",
      "Epoch 110/150\n",
      "2250/2250 [==============================] - 1s 650us/step - loss: 0.4175 - accuracy: 0.8263\n",
      "Epoch 111/150\n",
      "2250/2250 [==============================] - 1s 644us/step - loss: 0.4197 - accuracy: 0.8236\n",
      "Epoch 112/150\n",
      "2250/2250 [==============================] - 1s 644us/step - loss: 0.4197 - accuracy: 0.8224\n",
      "Epoch 113/150\n",
      "2250/2250 [==============================] - 2s 703us/step - loss: 0.4205 - accuracy: 0.8231\n",
      "Epoch 114/150\n",
      "2250/2250 [==============================] - 2s 703us/step - loss: 0.4197 - accuracy: 0.8239\n",
      "Epoch 115/150\n",
      "2250/2250 [==============================] - 2s 739us/step - loss: 0.4184 - accuracy: 0.8226\n",
      "Epoch 116/150\n",
      "2250/2250 [==============================] - 2s 749us/step - loss: 0.4203 - accuracy: 0.8246\n",
      "Epoch 117/150\n",
      "2250/2250 [==============================] - 1s 633us/step - loss: 0.4241 - accuracy: 0.8197\n",
      "Epoch 118/150\n",
      "2250/2250 [==============================] - 2s 708us/step - loss: 0.4180 - accuracy: 0.8236\n",
      "Epoch 119/150\n",
      "2250/2250 [==============================] - 1s 614us/step - loss: 0.4143 - accuracy: 0.8254\n",
      "Epoch 120/150\n",
      "2250/2250 [==============================] - 1s 615us/step - loss: 0.4251 - accuracy: 0.8193\n",
      "Epoch 121/150\n",
      "2250/2250 [==============================] - 1s 658us/step - loss: 0.4196 - accuracy: 0.8237\n",
      "Epoch 122/150\n",
      "2250/2250 [==============================] - 1s 661us/step - loss: 0.4216 - accuracy: 0.8205\n",
      "Epoch 123/150\n",
      "2250/2250 [==============================] - 1s 660us/step - loss: 0.4193 - accuracy: 0.8245\n",
      "Epoch 124/150\n",
      "2250/2250 [==============================] - 1s 638us/step - loss: 0.4207 - accuracy: 0.8218\n",
      "Epoch 125/150\n",
      "2250/2250 [==============================] - 2s 680us/step - loss: 0.4256 - accuracy: 0.81990s - loss: 0.4259 - accuracy: 0.\n",
      "Epoch 126/150\n",
      "2250/2250 [==============================] - 1s 648us/step - loss: 0.4136 - accuracy: 0.8254\n",
      "Epoch 127/150\n",
      "2250/2250 [==============================] - 2s 726us/step - loss: 0.4188 - accuracy: 0.8244\n",
      "Epoch 128/150\n",
      "2250/2250 [==============================] - 2s 752us/step - loss: 0.4186 - accuracy: 0.8246\n",
      "Epoch 129/150\n",
      "2250/2250 [==============================] - 2s 901us/step - loss: 0.4301 - accuracy: 0.8195\n",
      "Epoch 130/150\n",
      "2250/2250 [==============================] - 2s 908us/step - loss: 0.4166 - accuracy: 0.8266\n",
      "Epoch 131/150\n",
      "2250/2250 [==============================] - 3s 1ms/step - loss: 0.4213 - accuracy: 0.8240\n",
      "Epoch 132/150\n",
      "2250/2250 [==============================] - 2s 795us/step - loss: 0.4191 - accuracy: 0.8241\n",
      "Epoch 133/150\n",
      "2250/2250 [==============================] - 2s 1ms/step - loss: 0.4267 - accuracy: 0.8187\n",
      "Epoch 134/150\n",
      "2250/2250 [==============================] - 2s 1ms/step - loss: 0.4191 - accuracy: 0.8240\n",
      "Epoch 135/150\n",
      "2250/2250 [==============================] - 3s 1ms/step - loss: 0.4137 - accuracy: 0.8285\n",
      "Epoch 136/150\n",
      "2250/2250 [==============================] - 2s 857us/step - loss: 0.4176 - accuracy: 0.8236\n",
      "Epoch 137/150\n",
      "2250/2250 [==============================] - 2s 721us/step - loss: 0.4188 - accuracy: 0.8254\n",
      "Epoch 138/150\n",
      "2250/2250 [==============================] - 2s 685us/step - loss: 0.4144 - accuracy: 0.8275\n",
      "Epoch 139/150\n",
      "2250/2250 [==============================] - 2s 714us/step - loss: 0.4190 - accuracy: 0.8231\n",
      "Epoch 140/150\n",
      "2250/2250 [==============================] - 2s 685us/step - loss: 0.4187 - accuracy: 0.8243\n",
      "Epoch 141/150\n",
      "2250/2250 [==============================] - 1s 658us/step - loss: 0.4166 - accuracy: 0.8249\n",
      "Epoch 142/150\n",
      "2250/2250 [==============================] - 1s 638us/step - loss: 0.4161 - accuracy: 0.8237\n",
      "Epoch 143/150\n",
      "2250/2250 [==============================] - 1s 639us/step - loss: 0.4287 - accuracy: 0.8190\n",
      "Epoch 144/150\n",
      "2250/2250 [==============================] - 1s 636us/step - loss: 0.4196 - accuracy: 0.8211\n",
      "Epoch 145/150\n",
      "2250/2250 [==============================] - 1s 663us/step - loss: 0.4221 - accuracy: 0.8211\n",
      "Epoch 146/150\n",
      "2250/2250 [==============================] - 2s 689us/step - loss: 0.4211 - accuracy: 0.8232\n",
      "Epoch 147/150\n",
      "2250/2250 [==============================] - 1s 659us/step - loss: 0.4159 - accuracy: 0.8250\n",
      "Epoch 148/150\n",
      "2250/2250 [==============================] - 2s 1ms/step - loss: 0.4212 - accuracy: 0.8225\n",
      "Epoch 149/150\n",
      "2250/2250 [==============================] - 2s 786us/step - loss: 0.4201 - accuracy: 0.8237\n",
      "Epoch 150/150\n",
      "2250/2250 [==============================] - 2s 859us/step - loss: 0.4173 - accuracy: 0.8236\n"
     ]
    },
    {
     "data": {
      "text/plain": [
       "<tensorflow.python.keras.callbacks.History at 0x2996330a760>"
      ]
     },
     "execution_count": 189,
     "metadata": {},
     "output_type": "execute_result"
    }
   ],
   "source": [
    "model.fit(X_train, y_train, epochs=150, batch_size=10)"
   ]
  },
  {
   "cell_type": "markdown",
   "metadata": {},
   "source": [
    "#### Model Evaluation"
   ]
  },
  {
   "cell_type": "code",
   "execution_count": 190,
   "metadata": {
    "scrolled": true
   },
   "outputs": [
    {
     "name": "stdout",
     "output_type": "stream",
     "text": [
      "235/235 [==============================] - 0s 604us/step - loss: 0.4261 - accuracy: 0.8272\n",
      "\n",
      "accuracy: 82.72%\n"
     ]
    }
   ],
   "source": [
    "scores = model.evaluate(X_test, y_test)\n",
    "print(\"\\n%s: %.2f%%\" % (model.metrics_names[1], scores[1]*100))"
   ]
  },
  {
   "cell_type": "markdown",
   "metadata": {},
   "source": [
    "# <font color='red'> End of Project 2 : Classification"
   ]
  },
  {
   "cell_type": "markdown",
   "metadata": {},
   "source": [
    "######  Initials:                                                                                \n",
    "\n",
    "######                                                                                                                                                                                                                                            -rp"
   ]
  }
 ],
 "metadata": {
  "kernelspec": {
   "display_name": "Python 3",
   "language": "python",
   "name": "python3"
  },
  "language_info": {
   "codemirror_mode": {
    "name": "ipython",
    "version": 3
   },
   "file_extension": ".py",
   "mimetype": "text/x-python",
   "name": "python",
   "nbconvert_exporter": "python",
   "pygments_lexer": "ipython3",
   "version": "3.8.5"
  }
 },
 "nbformat": 4,
 "nbformat_minor": 4
}
